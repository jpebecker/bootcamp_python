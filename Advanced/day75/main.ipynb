{
  "cells": [
    {
      "cell_type": "markdown",
      "metadata": {
        "id": "_PRmj0tppim-"
      },
      "source": [
        "# Day 75"
      ]
    },
    {
      "cell_type": "code",
      "execution_count": null,
      "metadata": {
        "id": "wGmauArPpinJ"
      },
      "outputs": [],
      "source": [
        "import pandas as pd\n",
        "import matplotlib.pyplot as plt\n",
        "import matplotlib.dates as mdates\n",
        "\n",
        "df_tesla = pd.read_csv('TESLA Search Trend vs Price.csv')\n",
        "df_btc_search = pd.read_csv('Bitcoin Search Trend.csv') #montly volume\n",
        "df_btc_price = pd.read_csv('Daily Bitcoin Price.csv')\n",
        "df_unemployment = pd.read_csv('UE Benefits Search vs UE Rate 2004-19.csv')"
      ]
    },
    {
      "cell_type": "code",
      "execution_count": null,
      "metadata": {
        "id": "R9MQpkkXpinN"
      },
      "outputs": [],
      "source": [
        "#df_tesla.describe()\n",
        "#df_unemployment.describe()\n",
        "#df_btc_price.describe()"
      ]
    },
    {
      "cell_type": "code",
      "execution_count": null,
      "metadata": {
        "id": "ud3s00GgpinS"
      },
      "outputs": [],
      "source": [
        "#excluding NaN values\n",
        "df_btc_price = df_btc_price.dropna()\n",
        "#df_btc_search = df_btc_search.dropna()\n",
        "#df_unemployment = df_unemployment.dropna()\n",
        "#df_tesla = df_tesla.dropna()\n",
        "\n",
        "#converting dates in str format to dates in datetime format\n",
        "df_tesla.MONTH = pd.to_datetime(df_tesla.MONTH)\n",
        "df_btc_search.MONTH = pd.to_datetime(df_btc_search.MONTH)\n",
        "df_unemployment.MONTH = pd.to_datetime(df_unemployment.MONTH)\n",
        "df_btc_price.DATE = pd.to_datetime(df_btc_price.DATE)\n",
        "#converte preco\n",
        "btc_monthly = df_btc_price.resample('M', on='DATE').last()\n",
        "#print(len(btc_monthly))"
      ]
    },
    {
      "cell_type": "code",
      "execution_count": null,
      "metadata": {
        "id": "owuGTvXgpinT"
      },
      "outputs": [],
      "source": [
        "#graph to testa stock price and search volume without Mdates\n",
        "plt.figure(figsize=(10,6), dpi=120)\n",
        "plt.title('Tesla Stock Price vs Search Volume ', fontsize=18)\n",
        "\n",
        "axis1 = plt.gca()\n",
        "axis2 = axis1.twinx()\n",
        "axis1.set_ylabel('TSLA Stock Price', color='red', fontsize=12)\n",
        "axis2.set_ylabel('Search Trend', color='skyblue', fontsize=12)\n",
        "\n",
        "axis1.plot(df_tesla.MONTH, df_tesla.TSLA_USD_CLOSE, color='red', linewidth=3)\n",
        "axis2.plot(df_tesla.MONTH, df_tesla.TSLA_WEB_SEARCH, color='skyblue', linewidth=3)\n",
        "plt.show()"
      ]
    },
    {
      "cell_type": "code",
      "execution_count": null,
      "metadata": {
        "id": "Bu7URBijpinV"
      },
      "outputs": [],
      "source": [
        "#graph to testa stock price and search volume with Mdates ticks\n",
        "year = mdates.YearLocator()\n",
        "month = mdates.MonthLocator()\n",
        "years_form = mdates.DateFormatter('%Y')\n",
        "plt.figure(figsize=(10,6), dpi=120)\n",
        "plt.title('Tesla Stock Price vs Search Volume ', fontsize=18)\n",
        "\n",
        "axis1 = plt.gca()\n",
        "axis2 = axis1.twinx()\n",
        "axis1.set_ylabel('TSLA Stock Price', color='red', fontsize=12)\n",
        "axis2.set_ylabel('Search Trend', color='skyblue', fontsize=12)\n",
        "axis1.plot(df_tesla.MONTH, df_tesla.TSLA_USD_CLOSE, color='red', linewidth=3)\n",
        "axis2.plot(df_tesla.MONTH, df_tesla.TSLA_WEB_SEARCH, color='skyblue', linewidth=3)\n",
        "\n",
        "axis1.xaxis.set_major_locator(year)\n",
        "axis1.xaxis.set_major_formatter(years_form)\n",
        "axis1.xaxis.set_minor_locator(month)\n",
        "\n",
        "plt.show()"
      ]
    },
    {
      "cell_type": "code",
      "source": [
        "#bitcoin price x search vol same graphic as before\n",
        "\n",
        "plt.figure(figsize=(10,6), dpi=120)\n",
        "\n",
        "plt.title('Bitcoin Search Volume vs Price', fontsize=16)\n",
        "plt.xticks(fontsize=14, rotation=45)\n",
        "\n",
        "axis1 = plt.gca()\n",
        "axis2 = axis1.twinx()\n",
        "axis1.set_ylabel('BTC Price', color='yellow', fontsize=12)\n",
        "axis2.set_ylabel('Search Trend', color='skyblue', fontsize=12)\n",
        "\n",
        "axis1.xaxis.set_major_locator(year)\n",
        "axis1.xaxis.set_major_formatter(years_form)\n",
        "axis1.xaxis.set_minor_locator(month)\n",
        "\n",
        "axis1.set_ylim(bottom=0, top=15000)\n",
        "axis1.set_xlim([btc_monthly.index.min(), btc_monthly.index.max()])\n",
        "\n",
        "axis1.plot(btc_monthly.index, btc_monthly.CLOSE,color='yellow', linewidth=3, linestyle='--')\n",
        "axis2.plot(btc_monthly.index, df_btc_search.BTC_NEWS_SEARCH,color='skyblue', linewidth=3, marker='o')\n",
        "\n",
        "plt.show()"
      ],
      "metadata": {
        "id": "ae9Eu5tEx4BI"
      },
      "execution_count": null,
      "outputs": []
    },
    {
      "cell_type": "code",
      "source": [
        "#rolling graph for desemprego\n",
        "plt.figure(figsize=(14,8), dpi=120)\n",
        "plt.title('\"Unemployment Benefits\" Search Volume vs UNRATE', fontsize=15)\n",
        "plt.yticks(fontsize=14)\n",
        "plt.xticks(fontsize=14, rotation=45)\n",
        "\n",
        "axis1 = plt.gca()\n",
        "axis2 = axis1.twinx()\n",
        "\n",
        "axis1.xaxis.set_major_locator(year)\n",
        "axis1.xaxis.set_major_formatter(years_form)\n",
        "axis1.xaxis.set_minor_locator(month)\n",
        "\n",
        "axis1.set_ylabel('FRED U/E Rate', color='purple', fontsize=16)\n",
        "axis2.set_ylabel('Searchs', color='skyblue', fontsize=16)\n",
        "\n",
        "axis1.set_ylim(bottom=3, top=10.5)\n",
        "axis1.set_xlim([df_unemployment.MONTH[0], df_unemployment.MONTH.max()])\n",
        "\n",
        "#rolling average in 6 months\n",
        "roll_df = df_unemployment[['UE_BENEFITS_WEB_SEARCH', 'UNRATE']].rolling(window=6).mean() #media\n",
        "\n",
        "axis1.plot(df_unemployment.MONTH, roll_df.UNRATE, 'purple', linewidth=3, linestyle='-.')\n",
        "axis2.plot(df_unemployment.MONTH, roll_df.UE_BENEFITS_WEB_SEARCH, 'skyblue', linewidth=3)\n",
        "\n",
        "plt.show()"
      ],
      "metadata": {
        "id": "9FJDVPU-y7S1"
      },
      "execution_count": null,
      "outputs": []
    },
    {
      "cell_type": "code",
      "source": [
        "#comparando o dataframe com um mais atual...\n",
        "df_unem_2020 = pd.read_csv('UE Benefits Search vs UE Rate 2004-20.csv')\n",
        "df_unem_2020.MONTH = pd.to_datetime(df_unem_2020.MONTH)\n",
        "\n",
        "plt.figure(figsize=(12,7), dpi=120)\n",
        "plt.yticks(fontsize=14)\n",
        "plt.xticks(fontsize=14, rotation=45)\n",
        "plt.title('\"Unemployment Benefits\" Search Volume vs UNRATE incl 2020', fontsize=16)\n",
        "\n",
        "axis1 = plt.gca()\n",
        "axis2 = axis1.twinx()\n",
        "axis1.set_ylabel('FRED U/E Rate', color='purple', fontsize=16)\n",
        "axis2.set_ylabel('Searchs', color='skyblue', fontsize=16)\n",
        "\n",
        "axis1.set_xlim([df_unem_2020.MONTH.min(), df_unem_2020.MONTH.max()])\n",
        "\n",
        "axis1.plot(df_unem_2020.MONTH, df_unem_2020.UNRATE, 'purple', linewidth=3)\n",
        "axis2.plot(df_unem_2020.MONTH, df_unem_2020.UE_BENEFITS_WEB_SEARCH, 'skyblue', linewidth=3)\n",
        "\n",
        "plt.show()\n",
        "#this graph show one of the COVID's effects"
      ],
      "metadata": {
        "id": "wnV0Tw-8z6gu"
      },
      "execution_count": null,
      "outputs": []
    }
  ],
  "metadata": {
    "kernelspec": {
      "display_name": "Python 3",
      "language": "python",
      "name": "python3"
    },
    "language_info": {
      "codemirror_mode": {
        "name": "ipython",
        "version": 3
      },
      "file_extension": ".py",
      "mimetype": "text/x-python",
      "name": "python",
      "nbconvert_exporter": "python",
      "pygments_lexer": "ipython3",
      "version": "3.7.3"
    },
    "colab": {
      "provenance": []
    }
  },
  "nbformat": 4,
  "nbformat_minor": 0
}