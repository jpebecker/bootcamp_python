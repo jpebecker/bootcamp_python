{
  "nbformat": 4,
  "nbformat_minor": 0,
  "metadata": {
    "colab": {
      "provenance": []
    },
    "kernelspec": {
      "name": "python3",
      "display_name": "Python 3"
    },
    "language_info": {
      "name": "python"
    }
  },
  "cells": [
    {
      "cell_type": "code",
      "execution_count": null,
      "metadata": {
        "id": "r2y0a0Xu-9kt",
        "collapsed": true
      },
      "outputs": [],
      "source": [
        "import pandas as pd\n",
        "df = pd.read_csv('salaries_by_college_major.csv')\n",
        "\n",
        "#validation de valores nulos\n",
        "#df.head()\n",
        "#print(df.shape)\n",
        "#print(df.columns)\n",
        "#print(df.isna())\n",
        "#df.tail()\n",
        "\n",
        "#limpeza dos valores nulos\n",
        "clean_df = df.dropna()\n",
        "clean_df.tail()"
      ]
    },
    {
      "cell_type": "code",
      "source": [
        "#calculo do spread entre salarios de carreira\n",
        "spread_col = clean_df['Mid-Career 90th Percentile Salary'] - clean_df['Mid-Career 10th Percentile Salary']\n",
        "clean_df.insert(1, 'Spread', spread_col)#adiciona o spread a tabela\n",
        "clean_df.head()"
      ],
      "metadata": {
        "id": "uuMNNnUFGQSj"
      },
      "execution_count": null,
      "outputs": []
    },
    {
      "cell_type": "code",
      "source": [
        "#olhando-query de valores com spreads-variancias baixas\n",
        "low_risk = clean_df.sort_values('Spread')\n",
        "low_risk[['Undergraduate Major', 'Spread']].head()"
      ],
      "metadata": {
        "id": "0VK6ZST2GLB8"
      },
      "execution_count": null,
      "outputs": []
    },
    {
      "cell_type": "code",
      "source": [
        "#olhando-query de valores com spreads-variancias altos\n",
        "highest_spread = clean_df.sort_values('Spread', ascending=False)\n",
        "highest_spread[['Undergraduate Major', 'Spread']].head()"
      ],
      "metadata": {
        "id": "Q9zmFDq4GGAo"
      },
      "execution_count": null,
      "outputs": []
    },
    {
      "cell_type": "code",
      "source": [
        "#conta media por categoria\n",
        "pd.options.display.float_format = '{:,.2f}'.format\n",
        "clean_df.groupby('Group').mean(True)"
      ],
      "metadata": {
        "id": "WRX_2uH3B1f-"
      },
      "execution_count": null,
      "outputs": []
    }
  ]
}