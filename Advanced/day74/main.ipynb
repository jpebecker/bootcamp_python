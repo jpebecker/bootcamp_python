{
  "nbformat": 4,
  "nbformat_minor": 0,
  "metadata": {
    "kernelspec": {
      "display_name": "Python 3",
      "language": "python",
      "name": "python3"
    },
    "language_info": {
      "codemirror_mode": {
        "name": "ipython",
        "version": 3
      },
      "file_extension": ".py",
      "mimetype": "text/x-python",
      "name": "python",
      "nbconvert_exporter": "python",
      "pygments_lexer": "ipython3",
      "version": "3.7.3"
    },
    "colab": {
      "provenance": []
    }
  },
  "cells": [
    {
      "cell_type": "markdown",
      "metadata": {
        "dc": {
          "key": "1d0b086e6c"
        },
        "run_control": {
          "frozen": true
        },
        "tags": [
          "context"
        ],
        "id": "s9JLDE8NIquP"
      },
      "source": [
        "#Day 74\n",
        "<img src=\"assets/bricks.jpg\">"
      ]
    },
    {
      "cell_type": "code",
      "source": [
        "import pandas as pd\n",
        "#organizando cores de peças\n",
        "color_data = pd.read_csv(\"data/colors.csv\")\n",
        "print(f'there is {color_data[\"name\"].nunique()} colors in the LEGO dataset')\n",
        "print(f'{color_data.is_trans.value_counts()[\"t\"]} are transparents. So there is \\\n",
        "{color_data[\"name\"].nunique()-color_data.is_trans.value_counts()[\"t\"]} fullfilled colors')"
      ],
      "metadata": {
        "id": "3_YUsNXqAEXf"
      },
      "execution_count": null,
      "outputs": []
    },
    {
      "cell_type": "code",
      "source": [
        "sets_data = pd.read_csv(\"data/sets.csv\")\n",
        "sets_data.head()\n",
        "\n",
        "#primeiros sets lançados\n",
        "first_sets_df = sets_data[sets_data['year'] == sets_data['year'].min()]\n",
        "first_sets = first_sets_df['name'].tolist()\n",
        "\n",
        "sets_data.sort_values(by='year', ascending=False, inplace=True)\n",
        "print(sets_data.tail())"
      ],
      "metadata": {
        "id": "SPdzv-m9CIeK"
      },
      "execution_count": null,
      "outputs": []
    },
    {
      "cell_type": "code",
      "source": [
        "import matplotlib.pyplot as plt\n",
        "#sets lançados por ano\n",
        "sets_data = pd.read_csv(\"data/sets.csv\")\n",
        "sets_per_year = sets_data.groupby('year')['set_num'].count()\n",
        "sets_per_year = sets_per_year[:-2]\n",
        "\n",
        "#graph\n",
        "plt.figure(figsize=(10, 5))\n",
        "plt.plot(sets_per_year.index, sets_per_year.values)\n",
        "plt.title('Number of LEGO Sets Released Per Year')\n",
        "plt.xlabel('Year')\n",
        "plt.ylabel('Number of Sets')\n",
        "plt.grid(True)\n",
        "plt.show()"
      ],
      "metadata": {
        "id": "VYhyYcXsEnT8"
      },
      "execution_count": null,
      "outputs": []
    },
    {
      "cell_type": "code",
      "source": [
        "#temas lançados por ano\n",
        "themes_by_year = sets_data.groupby('year').agg({'theme_id': 'nunique'}).rename(columns={'theme_id': 'nr_themes'})\n",
        "plt.figure(figsize=(6, 4))\n",
        "plt.title('Number of Themes Released Per Year')\n",
        "plt.xlabel('Year')\n",
        "plt.ylabel('Themes')\n",
        "plt.grid(True)\n",
        "plt.plot(themes_by_year.index[:-2], themes_by_year.nr_themes[:-2])"
      ],
      "metadata": {
        "id": "WSKDxnvMGuwo"
      },
      "execution_count": null,
      "outputs": []
    },
    {
      "cell_type": "code",
      "source": [
        "#grafico com temas-sets por anos considerando as diferentes scales 90-900\n",
        "axis1 = plt.gca()\n",
        "axis2 = axis1.twinx()\n",
        "\n",
        "axis1.plot(sets_per_year.index[:-2],sets_per_year[:-2],color='r')\n",
        "axis2.plot(themes_by_year.index[:-2],themes_by_year.nr_themes[:-2],color='b')\n",
        "\n",
        "axis1.set_xlabel('Year')\n",
        "axis1.set_ylabel('Sets',color='red')\n",
        "axis2.set_ylabel('Themes',color='blue')\n",
        "plt.show()"
      ],
      "metadata": {
        "id": "fum-0szhIBX8"
      },
      "execution_count": null,
      "outputs": []
    },
    {
      "cell_type": "code",
      "source": [
        "#scatter graph to parts per set raise\n",
        "parts_set = sets_data.groupby('year').agg({'num_parts': pd.Series.mean})\n",
        "plt.scatter(parts_set.index[:-2],parts_set.num_parts[:-2])"
      ],
      "metadata": {
        "id": "KFS5SBatKDqr"
      },
      "execution_count": null,
      "outputs": []
    },
    {
      "cell_type": "markdown",
      "source": [
        "Database relational schema:\n",
        "<img src=\"assets/rebrickable_schema.png\">"
      ],
      "metadata": {
        "id": "3_e91Y5WLtCF"
      }
    },
    {
      "cell_type": "code",
      "source": [
        "#get theme name with theme id by merging\n",
        "themes_data = pd.read_csv('data/themes.csv')\n",
        "\n",
        "theme_count = sets_data['theme_id'].value_counts()\n",
        "theme_count = pd.DataFrame({'id':theme_count.index,'qtd':theme_count.values})\n",
        "#merged dataframe\n",
        "merged_df = pd.merge(theme_count, themes_data, on='id')\n",
        "\n",
        "#config do graph\n",
        "plt.figure(figsize=(14,8))\n",
        "plt.xticks(fontsize=10, rotation=45)\n",
        "plt.yticks(fontsize=10)\n",
        "plt.ylabel('Num of Sets', fontsize=12)\n",
        "plt.xlabel('Themes', fontsize=12)\n",
        "\n",
        "plt.bar(merged_df.name[:10], merged_df.qtd[:10])"
      ],
      "metadata": {
        "id": "TmNLkM_iLvy9"
      },
      "execution_count": null,
      "outputs": []
    }
  ]
}