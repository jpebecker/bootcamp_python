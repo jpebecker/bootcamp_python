{
  "nbformat": 4,
  "nbformat_minor": 0,
  "metadata": {
    "kernelspec": {
      "display_name": "Python 3",
      "language": "python",
      "name": "python3"
    },
    "language_info": {
      "codemirror_mode": {
        "name": "ipython",
        "version": 3
      },
      "file_extension": ".py",
      "mimetype": "text/x-python",
      "name": "python",
      "nbconvert_exporter": "python",
      "pygments_lexer": "ipython3",
      "version": "3.7.9"
    },
    "colab": {
      "provenance": []
    }
  },
  "cells": [
    {
      "cell_type": "markdown",
      "metadata": {
        "id": "FuDxBL8UamHp"
      },
      "source": [
        "# Day 79\n",
        "NOBEL DATA"
      ]
    },
    {
      "cell_type": "code",
      "metadata": {
        "id": "dCIwm0dLo7LL"
      },
      "source": [
        "import pandas as pd\n",
        "import numpy as np\n",
        "import plotly.express as px\n",
        "import seaborn as sns\n",
        "import matplotlib.pyplot as plt\n",
        "\n",
        "pd.options.display.float_format = '{:,.2f}'.format\n",
        "initial_data = pd.read_csv('nobel_prize_data.csv')"
      ],
      "execution_count": null,
      "outputs": []
    },
    {
      "cell_type": "code",
      "metadata": {
        "id": "4U-OQVRbFOu6"
      },
      "source": [
        "#analise do dataframe\n",
        "#initial_data.shape\n",
        "#initial_data.columns\n",
        "#initial_data.info()\n",
        "#initial_data.describe()\n",
        "#initial_data.sample()\n",
        "#initial_data.duplicated().sum()\n",
        "#initial_data.isna().sum()\n",
        "\n",
        "initial_data.birth_date = pd.to_datetime(initial_data.birth_date) #conversao de str para datetime\n",
        "\n",
        "separated_values = initial_data.prize_share.str.split('/', expand=True)\n",
        "numerator = pd.to_numeric(separated_values[0])\n",
        "denomenator = pd.to_numeric(separated_values[1])\n",
        "initial_data['share_pct'] = numerator / denomenator #nova coluna com share pct"
      ],
      "execution_count": null,
      "outputs": []
    },
    {
      "cell_type": "code",
      "metadata": {
        "id": "Iy6cDcXAFOsV"
      },
      "source": [
        "#premios entre homens e mulheres\n",
        "gen = initial_data.sex.value_counts()\n",
        "pizza = px.pie(labels=gen.index,\n",
        "             values=gen.values,\n",
        "             title=\"Male vs. Female Nobel Winners\",\n",
        "             names=gen.index,\n",
        "             hole=0.4,)\n",
        "\n",
        "pizza.update_traces(textposition='inside', textfont_size=15, textinfo='percent')\n",
        "\n",
        "pizza.show()"
      ],
      "execution_count": null,
      "outputs": []
    },
    {
      "cell_type": "code",
      "metadata": {
        "id": "v976ftCaFRFN"
      },
      "source": [
        "#primeiras mulheres a ganhar o nobel\n",
        "initial_data[initial_data.sex == 'Female'].sort_values('year', ascending=True)[:10]"
      ],
      "execution_count": null,
      "outputs": []
    },
    {
      "cell_type": "code",
      "metadata": {
        "id": "gvpa0A0OFQ4z"
      },
      "source": [
        "#vencedores multiplos do NOBEL\n",
        "is_winner = initial_data.duplicated(subset=['full_name'], keep=False)\n",
        "multiple_winners = initial_data[is_winner]\n",
        "print(f'There are {multiple_winners.full_name.nunique()}' \\\n",
        "      ' winners who won more than once.')\n",
        "\n",
        "subset = ['year', 'category', 'laureate_type', 'full_name']\n",
        "multiple_winners[subset].sort_values('full_name')"
      ],
      "execution_count": null,
      "outputs": []
    },
    {
      "cell_type": "code",
      "metadata": {
        "id": "HgbI5sQNFStg"
      },
      "source": [
        "#premios por categoria (ciencia, quimica, etc)\n",
        "prize_cat = initial_data.category.value_counts()\n",
        "vertical_bar_graph = px.bar(\n",
        "        x = prize_cat.index,\n",
        "        y = prize_cat.values,\n",
        "        color = prize_cat.values,\n",
        "        color_continuous_scale='Aggrnyl',\n",
        "        title='Prizes Awarded per Category')\n",
        "\n",
        "vertical_bar_graph.update_layout(xaxis_title='Prize Category',\n",
        "                    coloraxis_showscale=False,\n",
        "                    yaxis_title='Quantity')\n",
        "vertical_bar_graph.show()"
      ],
      "execution_count": null,
      "outputs": []
    },
    {
      "cell_type": "code",
      "metadata": {
        "id": "O2zgruevFSyV"
      },
      "source": [
        "#premios distribuidos por categoria entre homens e mulheres\n",
        "categ_gen = initial_data.groupby(['category', 'sex'],as_index=False).agg({'prize': pd.Series.count})\n",
        "categ_gen.sort_values('prize', ascending=False, inplace=True)\n",
        "#print(categ_gen)\n",
        "\n",
        "vertical_graph = px.bar(x = categ_gen.category,\n",
        "                     y = categ_gen.prize,\n",
        "                     color = categ_gen.sex,\n",
        "                     title='Category split by Men and Women')\n",
        "\n",
        "vertical_graph.update_layout(xaxis_title='Prize Category',\n",
        "                          yaxis_title='Quantity')\n",
        "vertical_graph.show()"
      ],
      "execution_count": null,
      "outputs": []
    },
    {
      "cell_type": "code",
      "metadata": {
        "id": "aTU9T9xnFTQY"
      },
      "source": [
        "#calculo de premios dados por ano\n",
        "prize_year = initial_data.groupby(by='year').count().prize\n",
        "moving_avg = prize_year.rolling(window=5).mean() #intervalo de 5 em 5 anos\n",
        "# #scatter graph da dispersao\n",
        "# plt.scatter(x=prize_year.index,\n",
        "#            y=prize_year.values,\n",
        "#            c='darkred',\n",
        "#            alpha=0.7,\n",
        "#            s=100,)\n",
        "# #linha da moving average\n",
        "# plt.plot(prize_year.index,\n",
        "#         moving_avg.values,\n",
        "#         c='lightgreen',\n",
        "#         linewidth=3,)\n",
        "\n",
        "# plt.show()\n",
        "\n",
        "interv = np.arange(1900, 2021, step=5) #faz uma array com os anos intervalados\n",
        "plt.figure(figsize=(16,8), dpi=200)\n",
        "plt.title('Prizes Awarded per Year', fontsize=15)\n",
        "plt.yticks(fontsize=14)\n",
        "plt.xticks(ticks=interv,\n",
        "           fontsize=14,\n",
        "           rotation=45)\n",
        "\n",
        "axis = plt.gca() #current axis\n",
        "axis.set_xlim(1900, 2020)\n",
        "\n",
        "#scatter graph dos premios\n",
        "axis.scatter(x=prize_year.index,\n",
        "           y=prize_year.values,\n",
        "           c='dodgerblue',\n",
        "           alpha=0.7,\n",
        "           s=100,)\n",
        "#linha da media\n",
        "axis.plot(prize_year.index,\n",
        "        moving_avg.values,\n",
        "        c='crimson',\n",
        "        linewidth=3,)\n",
        "\n",
        "plt.show()"
      ],
      "execution_count": null,
      "outputs": []
    },
    {
      "cell_type": "code",
      "metadata": {
        "id": "0vxjq5N1FSwG"
      },
      "source": [
        "#share average and comparison to previous data (graph above)\n",
        "yearly_avg_share = initial_data.groupby(by='year').agg({'share_pct': pd.Series.mean}) #media de premiacao dada ao ano\n",
        "share_mvg_avg = yearly_avg_share.rolling(window=5).mean() #moving average do intervalo de 5 anos\n",
        "\n",
        "plt.figure(figsize=(16,8), dpi=200)\n",
        "plt.title('Prizes Awarded per Year', fontsize=15)\n",
        "plt.yticks(fontsize=14)\n",
        "plt.xticks(ticks=interv,\n",
        "           fontsize=14,\n",
        "           rotation=45)\n",
        "\n",
        "axis1 = plt.gca()\n",
        "axis2 = axis1.twinx() #segundo axis\n",
        "axis1.set_xlim(1900, 2020)\n",
        "axis2.invert_yaxis() #invertendo axis\n",
        "\n",
        "#scatter plots dos premios\n",
        "axis1.scatter(x=prize_year.index,\n",
        "           y=prize_year.values,\n",
        "           c='skyblue',\n",
        "           alpha=0.7,\n",
        "           s=100,)\n",
        "#linha da media\n",
        "axis1.plot(prize_year.index,\n",
        "        moving_avg.values,\n",
        "        c='red',\n",
        "        linewidth=3,)\n",
        "\n",
        "#prize line to previous graph\n",
        "axis2.plot(prize_year.index,\n",
        "        share_mvg_avg.values,\n",
        "        c='orange',\n",
        "        linewidth=3,)\n",
        "\n",
        "plt.show()"
      ],
      "execution_count": null,
      "outputs": []
    },
    {
      "cell_type": "code",
      "metadata": {
        "id": "ydO2iCjBFSq7"
      },
      "source": [
        "#top PAISES mais premiados\n",
        "top_countries = initial_data.groupby(['birth_country_current'],as_index=False).agg({'prize': pd.Series.count})\n",
        "\n",
        "top_countries.sort_values(by='prize', inplace=True)\n",
        "top15_countries = top_countries[-15:]\n",
        "\n",
        "horizont_bar_graph = px.bar(x=top15_countries.prize,\n",
        "                      y=top15_countries.birth_country_current,\n",
        "                      orientation='h',\n",
        "                      color=top15_countries.prize,\n",
        "                      color_continuous_scale='Viridis',\n",
        "                      title='Top 15 Winner Countries')\n",
        "\n",
        "horizont_bar_graph.update_layout(xaxis_title='Number of Prizes',\n",
        "                    yaxis_title='Country',\n",
        "                    coloraxis_showscale=False)\n",
        "horizont_bar_graph.show()"
      ],
      "execution_count": null,
      "outputs": []
    },
    {
      "cell_type": "code",
      "metadata": {
        "id": "Jas4fWv4Fa4_"
      },
      "source": [
        "#showing the previous data (most winner per country) in a map\n",
        "df_countries = initial_data.groupby(['birth_country_current', 'ISO'],as_index=False).agg({'prize': pd.Series.count})\n",
        "df_countries.sort_values('prize', ascending=False) #organizando por qtd\n",
        "\n",
        "world_map = px.choropleth(df_countries,\n",
        "                          locations='ISO', #usando a palavra chave para localizacoes\n",
        "                          color='prize',\n",
        "                          hover_name='birth_country_current',\n",
        "                          color_continuous_scale=px.colors.sequential.matter)\n",
        "\n",
        "world_map.update_layout(coloraxis_showscale=True,)\n",
        "\n",
        "world_map.show()"
      ],
      "execution_count": null,
      "outputs": []
    },
    {
      "cell_type": "code",
      "source": [
        "#organizando premios ganhos por categoria\n",
        "country_ctg = initial_data.groupby(['birth_country_current', 'category'],as_index=False).agg({'prize': pd.Series.count})\n",
        "country_ctg.sort_values(by='prize', ascending=False, inplace=True)\n",
        "\n",
        "merged_df = pd.merge(country_ctg, top15_countries, on='birth_country_current') #fazendo a mescla das duas tabelas\n",
        "# change column names\n",
        "merged_df.columns = ['birth_country_current', 'category', 'cat_prize', 'total_prize']\n",
        "merged_df.sort_values(by='total_prize', inplace=True)\n",
        "\n",
        "#horizontal chart atualizado por categorias ganhas por paises\n",
        "cat_cntry_bar = px.bar(x=merged_df.cat_prize,\n",
        "                       y=merged_df.birth_country_current,\n",
        "                       color=merged_df.category,\n",
        "                       orientation='h',\n",
        "                       title='Top 15 Countries by Number of Prizes and Category')\n",
        "\n",
        "cat_cntry_bar.update_layout(xaxis_title='Quantity',\n",
        "                            yaxis_title='Country')\n",
        "cat_cntry_bar.show()"
      ],
      "metadata": {
        "id": "S1KYQ_3qszrW"
      },
      "execution_count": null,
      "outputs": []
    },
    {
      "cell_type": "code",
      "metadata": {
        "id": "4BNug19-FdHP"
      },
      "source": [
        "#Line chart de premios ganhos organizados por data (bom pra visualizar o timespan e ganho por decadas)\n",
        "prize_by_year = initial_data.groupby(by=['birth_country_current', 'year'], as_index=False).count()\n",
        "prize_by_year = prize_by_year.sort_values('year')[['year', 'birth_country_current', 'prize']]\n",
        "\n",
        "cumulative_prizes = prize_by_year.groupby(by=['birth_country_current','year']).sum().groupby(level=[0]).cumsum()#cumulative sum\n",
        "cumulative_prizes.reset_index(inplace=True)\n",
        "\n",
        "line_chart = px.line(cumulative_prizes,\n",
        "                  x='year',\n",
        "                  y='prize',\n",
        "                  color='birth_country_current',\n",
        "                  hover_name='birth_country_current')\n",
        "\n",
        "line_chart.update_layout(xaxis_title='Year',\n",
        "                      yaxis_title='Number of Prizes')\n",
        "\n",
        "line_chart.show()"
      ],
      "execution_count": null,
      "outputs": []
    },
    {
      "cell_type": "code",
      "metadata": {
        "id": "RKZXiaO1Fc9v"
      },
      "source": [
        "#top 15 organizacoes ganhadoras\n",
        "top15_orgs = initial_data.organization_name.value_counts()[:15]\n",
        "top15_orgs.sort_values(ascending=True, inplace=True)\n",
        "\n",
        "org_bar = px.bar(x = top15_orgs.values,\n",
        "                 y = top15_orgs.index,\n",
        "                 orientation='h',\n",
        "                 color=top15_orgs.values,\n",
        "                 color_continuous_scale=px.colors.sequential.haline,\n",
        "                 title='Top 15 Research Organizations by Prizes')\n",
        "\n",
        "org_bar.update_layout(xaxis_title='Quantity',\n",
        "                      yaxis_title='Institution',\n",
        "                      coloraxis_showscale=False)\n",
        "org_bar.show()"
      ],
      "execution_count": null,
      "outputs": []
    },
    {
      "cell_type": "code",
      "metadata": {
        "id": "wxTmkQd-Ff3Q"
      },
      "source": [
        "#grafico de top cities ganhadoras\n",
        "top15_org_cities = initial_data.organization_city.value_counts()[:15]\n",
        "top15_org_cities.sort_values(ascending=True, inplace=True)\n",
        "cities_h_graph = px.bar(x = top15_org_cities.values,\n",
        "                  y = top15_org_cities.index,\n",
        "                  orientation='h',\n",
        "                  color=top15_org_cities.values,\n",
        "                  color_continuous_scale=px.colors.sequential.Plasma,\n",
        "                  title='Most Winner Cities')\n",
        "\n",
        "cities_h_graph.update_layout(xaxis_title='Quantity',\n",
        "                       yaxis_title='City',\n",
        "                       coloraxis_showscale=False)\n",
        "cities_h_graph.show()"
      ],
      "execution_count": null,
      "outputs": []
    },
    {
      "cell_type": "code",
      "metadata": {
        "id": "qVJDd4uhFgGk"
      },
      "source": [
        "#cidades naturais dos vencedores\n",
        "top15_born_cities = initial_data.birth_city.value_counts()[:15]\n",
        "top15_born_cities.sort_values(ascending=True, inplace=True)\n",
        "city_bar = px.bar(x=top15_born_cities.values,\n",
        "                  y=top15_born_cities.index,\n",
        "                  orientation='h',\n",
        "                  color=top15_born_cities.values,\n",
        "                  color_continuous_scale=px.colors.sequential.Plasma,\n",
        "                  title='Nobel Winner Born Cities')\n",
        "\n",
        "city_bar.update_layout(xaxis_title='Quantity',\n",
        "                       yaxis_title='City of Birth',\n",
        "                       coloraxis_showscale=False)\n",
        "city_bar.show()"
      ],
      "execution_count": null,
      "outputs": []
    },
    {
      "cell_type": "code",
      "metadata": {
        "id": "nk5h-XFcFiJp"
      },
      "source": [
        "#sunburst graph of geography of organizations\n",
        "\n",
        "country_city_org = initial_data.groupby(by=['organization_country','organization_city','organization_name'],\n",
        "                                   as_index=False).agg({'prize': pd.Series.count})\n",
        "\n",
        "country_city_org = country_city_org.sort_values('prize', ascending=False)\n",
        "\n",
        "burst = px.sunburst(country_city_org,\n",
        "                    path=['organization_country', 'organization_city', 'organization_name'],\n",
        "                    values='prize',\n",
        "                    title='Discoveries and Winner Geography',\n",
        "                   )\n",
        "\n",
        "burst.update_layout(xaxis_title='Quantity of Wins',\n",
        "                    yaxis_title='City',\n",
        "                    coloraxis_showscale=False)\n",
        "\n",
        "burst.show()"
      ],
      "execution_count": null,
      "outputs": []
    },
    {
      "cell_type": "code",
      "metadata": {
        "id": "fqBSGeNcFiBM"
      },
      "source": [
        "#obtendo idades dos ganhadores\n",
        "birth_year = initial_data.birth_date.dt.year\n",
        "initial_data['winning_age'] = initial_data.year - birth_year #idades quando ganharam salvas na dataframe\n",
        "\n",
        "initial_data.winning_age.describe()\n",
        "\n",
        "plt.figure(figsize=(8, 4), dpi=200)\n",
        "sns.histplot(data=initial_data,\n",
        "             x=initial_data.winning_age,\n",
        "             bins=30)\n",
        "plt.xlabel('Idade')\n",
        "plt.ylabel('Quantidade')\n",
        "plt.title('Distribuição da idade de ganhadores')\n",
        "plt.show()"
      ],
      "execution_count": null,
      "outputs": []
    },
    {
      "cell_type": "code",
      "metadata": {
        "id": "Qqf8_dWUFjpz"
      },
      "source": [
        "#scatter + line das idades dos ganhadores\n",
        "plt.figure(figsize=(8,4), dpi=200)\n",
        "with sns.axes_style(\"whitegrid\"):\n",
        "    sns.regplot(data=initial_data,\n",
        "                x='year', #argumento 1\n",
        "                y='winning_age', #argumento 2\n",
        "                lowess=True,\n",
        "                scatter_kws = {'alpha': 0.4},\n",
        "                line_kws={'color': 'red'})\n",
        "\n",
        "plt.show()"
      ],
      "execution_count": null,
      "outputs": []
    },
    {
      "cell_type": "code",
      "metadata": {
        "id": "UuIqCxQvFjdF"
      },
      "source": [
        "#diferenças de idade por categoria em boxplots\n",
        "\n",
        "plt.figure(figsize=(8,4), dpi=200)\n",
        "plt.title('Age Spread by Category')\n",
        "plt.ylabel('Age')\n",
        "plt.xlabel('Category')\n",
        "with sns.axes_style(\"whitegrid\"):\n",
        "    sns.boxplot(data=initial_data,\n",
        "                x='category',\n",
        "                y='winning_age')\n",
        "\n",
        "plt.show()"
      ],
      "execution_count": null,
      "outputs": []
    },
    {
      "cell_type": "code",
      "metadata": {
        "id": "EjwqH7bxFm10"
      },
      "source": [
        "#scatter graphs of linear regression in ages for the main categories\n",
        "#GRAFICOS INDIVIDUAIS\n",
        "# with sns.axes_style('whitegrid'):\n",
        "#     sns.lmplot(data=initial_data,\n",
        "#                x='year',\n",
        "#                y='winning_age',\n",
        "#                row = 'category',\n",
        "#                lowess=True,\n",
        "#                aspect=2,\n",
        "#                scatter_kws = {'alpha': 0.6},\n",
        "#                line_kws = {'color': 'lightgreen'},)\n",
        "\n",
        "# plt.show()\n",
        "\n",
        "#GRAFICOS UNIDOS HUE ARGUMENT\n",
        "with sns.axes_style(\"whitegrid\"):\n",
        "    sns.lmplot(data=initial_data,\n",
        "               x='year',\n",
        "               y='winning_age',\n",
        "               hue='category',\n",
        "               lowess=True,\n",
        "               aspect=2,\n",
        "               scatter_kws={'alpha': 0.5},\n",
        "               line_kws={'linewidth': 5})\n",
        "\n",
        "plt.show()"
      ],
      "execution_count": null,
      "outputs": []
    }
  ]
}