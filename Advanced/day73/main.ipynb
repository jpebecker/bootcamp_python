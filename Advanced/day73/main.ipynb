{
  "nbformat": 4,
  "nbformat_minor": 0,
  "metadata": {
    "kernelspec": {
      "display_name": "Python 3",
      "language": "python",
      "name": "python3"
    },
    "language_info": {
      "codemirror_mode": {
        "name": "ipython",
        "version": 3
      },
      "file_extension": ".py",
      "mimetype": "text/x-python",
      "name": "python",
      "nbconvert_exporter": "python",
      "pygments_lexer": "ipython3",
      "version": "3.7.3"
    },
    "colab": {
      "provenance": []
    }
  },
  "cells": [
    {
      "cell_type": "markdown",
      "metadata": {
        "id": "MAAKxOwsGxuj"
      },
      "source": [
        "## Day 73"
      ]
    },
    {
      "cell_type": "code",
      "metadata": {
        "id": "Ru4Wq-pXGxuk"
      },
      "source": [
        "import pandas as pd\n",
        "data = pd.read_csv('QueryResults.csv',names=['DATE','TAG','POSTS'],header=0)"
      ],
      "execution_count": null,
      "outputs": []
    },
    {
      "cell_type": "code",
      "metadata": {
        "id": "Sc1dmmOoIg2g"
      },
      "source": [
        "#convert date to datetime format (it was in str)\n",
        "data['DATE'] = pd.to_datetime(data['DATE'])\n",
        "print(data.head())"
      ],
      "execution_count": null,
      "outputs": []
    },
    {
      "cell_type": "code",
      "source": [
        "#change the table to be pivoted by the date\n",
        "new_data = data.pivot(index='DATE', columns='TAG', values='POSTS')\n",
        "new_data.fillna(0, inplace=True)\n",
        "#new_data.isna().values.any()\n",
        "print(new_data.head())"
      ],
      "metadata": {
        "id": "O9VHTa_33Utz"
      },
      "execution_count": null,
      "outputs": []
    },
    {
      "cell_type": "code",
      "source": [
        "import matplotlib.pyplot as plt\n",
        "#straight from table graphic\n",
        "plt.figure(figsize=(8,5))\n",
        "plt.xticks(fontsize=14)\n",
        "plt.yticks(fontsize=14)\n",
        "plt.xlabel('Year', fontsize=10)\n",
        "plt.ylabel('Number of Posts', fontsize=10)\n",
        "plt.ylim(0, 35000)\n",
        "\n",
        "for column in new_data.columns:\n",
        "    plt.plot(new_data.index, new_data[column],\n",
        "             linewidth=3, label=new_data[column].name)\n",
        "\n",
        "plt.legend(fontsize=12)"
      ],
      "metadata": {
        "id": "NvZn5DUe4OZS"
      },
      "execution_count": null,
      "outputs": []
    },
    {
      "cell_type": "code",
      "source": [
        "#smoothed graphic\n",
        "mean_df = new_data.rolling(window=6).mean()\n",
        "\n",
        "plt.figure(figsize=(8,5))\n",
        "plt.xticks(fontsize=10)\n",
        "plt.yticks(fontsize=10)\n",
        "plt.xlabel('Date', fontsize=10)\n",
        "plt.ylabel('Number of Posts', fontsize=10)\n",
        "plt.ylim(0, 35000)\n",
        "\n",
        "# plot the roll_df instead\n",
        "for column in mean_df.columns:\n",
        "    plt.plot(mean_df.index, mean_df[column],\n",
        "             linewidth=3, label=mean_df[column].name)\n",
        "\n",
        "plt.legend(fontsize=12)"
      ],
      "metadata": {
        "id": "wN8Zmn5a5tmz"
      },
      "execution_count": null,
      "outputs": []
    }
  ]
}