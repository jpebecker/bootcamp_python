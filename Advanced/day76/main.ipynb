{
  "nbformat": 4,
  "nbformat_minor": 0,
  "metadata": {
    "kernelspec": {
      "display_name": "Python 3",
      "language": "python",
      "name": "python3"
    },
    "language_info": {
      "codemirror_mode": {
        "name": "ipython",
        "version": 3
      },
      "file_extension": ".py",
      "mimetype": "text/x-python",
      "name": "python",
      "nbconvert_exporter": "python",
      "pygments_lexer": "ipython3",
      "version": "3.7.3"
    },
    "colab": {
      "provenance": []
    }
  },
  "cells": [
    {
      "cell_type": "markdown",
      "metadata": {
        "dc": {
          "key": "4"
        },
        "run_control": {
          "frozen": true
        },
        "tags": [
          "context"
        ],
        "id": "-Sxae4jbdiT2"
      },
      "source": [
        "# Day 76\n",
        "app store data"
      ]
    },
    {
      "cell_type": "code",
      "metadata": {
        "id": "_5mfFH4_diT4"
      },
      "source": [
        "import pandas as pd\n",
        "import plotly.express as px\n",
        "# Show numeric output in decimal format e.g., 2.15\n",
        "pd.options.display.float_format = '{:,.2f}'.format\n",
        "df_apps = pd.read_csv('apps.csv')"
      ],
      "execution_count": null,
      "outputs": []
    },
    {
      "cell_type": "code",
      "metadata": {
        "id": "MUluaHF5nueH"
      },
      "source": [
        "#df_apps.shape\n",
        "df_apps.columns\n",
        "#df_apps.sample()"
      ],
      "execution_count": null,
      "outputs": []
    },
    {
      "cell_type": "code",
      "source": [
        "#limpeza dos dados -> tratamento\n",
        "df_apps.drop(['Last_Updated', 'Android_Ver'], axis=1, inplace=True) #removendo colunas que nao vao ser utilizadas\n",
        "\n",
        "df_apps_clean = df_apps.dropna()\n",
        "df_apps_clean = df_apps_clean.drop_duplicates(subset=['App','Type','Price'])"
      ],
      "metadata": {
        "id": "ieqXGFq729kq"
      },
      "execution_count": null,
      "outputs": []
    },
    {
      "cell_type": "code",
      "source": [
        "#data analysys\n",
        "\n",
        "#df_apps_clean.sort_values(by='Size_MBs', ascending=False).head()\n",
        "#df_apps_clean.sort_values(by='Rating', ascending=False).head()\n",
        "#df_apps_clean.sort_values(by='Reviews', ascending=False).head()\n",
        "content_ratings = df_apps_clean.Content_Rating.value_counts()\n",
        "print(content_ratings)"
      ],
      "metadata": {
        "id": "W5QgClvb4Uot"
      },
      "execution_count": null,
      "outputs": []
    },
    {
      "cell_type": "code",
      "source": [
        "#pizza graphic of content ratings\n",
        "pizza = px.pie(labels=content_ratings.index, values=content_ratings.values,\n",
        "               title='Content Rating Distribution',names=content_ratings.index)\n",
        "pizza.update_traces(textposition='outside', textinfo='percent+label')\n",
        "pizza.show()"
      ],
      "metadata": {
        "id": "pcaSKAg26kPm"
      },
      "execution_count": null,
      "outputs": []
    },
    {
      "cell_type": "code",
      "source": [
        "#donut graphic of content ratings\n",
        "donut = px.pie(labels=content_ratings.index, values=content_ratings.values,\n",
        "               title='Content Rating Distribution',names=content_ratings.index, hole=0.3)\n",
        "donut.update_traces(textposition='inside', textfont_size=15, textinfo='percent')\n",
        "donut.show()"
      ],
      "metadata": {
        "id": "0SuDCcqp7J_W"
      },
      "execution_count": null,
      "outputs": []
    },
    {
      "cell_type": "code",
      "metadata": {
        "id": "uTNyWsPboJLq"
      },
      "source": [
        "#conversao de valores numericos com ruido para strings limpas by parsing/replacing\n",
        "df_apps_clean.Installs = df_apps_clean.Installs.astype(str).str.replace(',', \"\")\n",
        "df_apps_clean.Installs = pd.to_numeric(df_apps_clean.Installs)\n",
        "df_apps_clean[['App', 'Installs']].groupby('Installs').count()\n",
        "#mesmo processo, variaveis diferentes\n",
        "df_apps_clean.Price = df_apps_clean.Price.astype(str).str.replace('$', \"\")\n",
        "df_apps_clean.Price = pd.to_numeric(df_apps_clean.Price)\n",
        "\n",
        "df_apps_clean = df_apps_clean[df_apps_clean['Price'] < 250]#remoçao de apps outliers\n",
        "#df_apps_clean.sort_values('Price', ascending=False).head(5)\n",
        "\n",
        "df_apps_clean['Revenue_Estimate'] = df_apps_clean.Installs.mul(df_apps_clean.Price) #calculo da receita bruta de apps pagos\n",
        "df_apps_clean.sort_values('Revenue_Estimate', ascending=False)[:10]#top 10 apps pagos"
      ],
      "execution_count": null,
      "outputs": []
    },
    {
      "cell_type": "code",
      "metadata": {
        "id": "3mDi45iIoVzE"
      },
      "source": [
        "#grafico de barras de número de apps lançados por categoria\n",
        "#print(f'There is {df_apps_clean.Category.nunique()} app categories.')\n",
        "apps_per_category = df_apps_clean.Category.value_counts()\n",
        "\n",
        "bar_graph = px.bar(x = apps_per_category[:10].index, # index => category name\n",
        "             y = apps_per_category[:10].values) #top 10 categories\n",
        "\n",
        "bar_graph.update_layout(xaxis_title='Categories', yaxis_title='App Count')\n",
        "bar_graph.show()"
      ],
      "execution_count": null,
      "outputs": []
    },
    {
      "cell_type": "code",
      "source": [
        "#grafico de categoria mais INSTALADA\n",
        "category_installs = df_apps_clean.groupby('Category').agg({'Installs': pd.Series.sum})\n",
        "category_installs.sort_values('Installs', ascending=True, inplace=True)\n",
        "\n",
        "hor_bar_graph = px.bar(x = category_installs.Installs,\n",
        "               y = category_installs.index,\n",
        "               orientation='h',\n",
        "               title='Category Popularity')\n",
        "\n",
        "hor_bar_graph.update_layout(xaxis_title='Downloads', yaxis_title='Category')\n",
        "hor_bar_graph.show()"
      ],
      "metadata": {
        "id": "jstTA29A-EFv"
      },
      "execution_count": null,
      "outputs": []
    },
    {
      "cell_type": "code",
      "metadata": {
        "id": "h7aUARLtocCy"
      },
      "source": [
        "#grafico distributivo de downloads de apps por categoria (obs: passar mouses no plots)\n",
        "category_count = df_apps_clean.groupby('Category').agg({'App': pd.Series.count})\n",
        "\n",
        "category_df = pd.merge(category_count, category_installs, on='Category', how=\"inner\")\n",
        "category_df.sort_values('Installs', ascending=False)\n",
        "\n",
        "\n",
        "scatter_graph = px.scatter(category_df, #origem\n",
        "                    x='App',\n",
        "                    y='Installs',\n",
        "                    title='Category Concentration Scattered Graph',\n",
        "                    size='App',\n",
        "                    hover_name=category_df.index,\n",
        "                    color='Installs')\n",
        "\n",
        "scatter_graph.update_layout(xaxis_title=\"Number of Apps (If Lower = More Concentrated)\",\n",
        "                      yaxis_title=\"Installs\",\n",
        "                      yaxis=dict(type='log'))\n",
        "\n",
        "scatter_graph.show()"
      ],
      "execution_count": null,
      "outputs": []
    },
    {
      "cell_type": "code",
      "metadata": {
        "id": "tVvGPDY7oe5A"
      },
      "source": [
        "#parsing de generos multiplos (mais de um em um app) de apps\n",
        "stash = df_apps_clean.Genres.str.split(';', expand=True).stack()\n",
        "num_genres = stash.value_counts()\n",
        "#print(f'Number of genres: {len(num_genres)}')\n",
        "\n",
        "graph_bar = px.bar(x = num_genres.index[:10], # index = category name\n",
        "             y = num_genres.values[:10], # qtd\n",
        "             title='Top Genres',\n",
        "             hover_name=num_genres.index[:10],\n",
        "             color=num_genres.values[:10],\n",
        "             color_continuous_scale='picnic')\n",
        "\n",
        "graph_bar.update_layout(xaxis_title='Genre',\n",
        "yaxis_title='Number of Apps',\n",
        "coloraxis_showscale=False)\n",
        "\n",
        "graph_bar.show()"
      ],
      "execution_count": null,
      "outputs": []
    },
    {
      "cell_type": "code",
      "metadata": {
        "id": "c5xbfMgxojoA"
      },
      "source": [
        "#qtd de apps pagos e apps gratuitos por categoria\n",
        "\n",
        "paid_or_free = df_apps_clean.groupby([\"Category\", \"Type\"], as_index=False).agg({'App': pd.Series.count})\n",
        "paid_or_free.head()\n",
        "\n",
        "g_bar = px.bar(paid_or_free,\n",
        "               x='Category',\n",
        "               y='App',\n",
        "               title='Free vs Paid Apps by Category',\n",
        "               color='Type',\n",
        "               barmode='group')\n",
        "\n",
        "g_bar.update_layout(xaxis_title='Category',\n",
        "                    yaxis_title='Apps Count',\n",
        "                    xaxis={'categoryorder':'total descending'},\n",
        "                    yaxis=dict(type='log'))\n",
        "\n",
        "g_bar.show()"
      ],
      "execution_count": null,
      "outputs": []
    },
    {
      "cell_type": "code",
      "metadata": {
        "id": "ANMs7xywolDH"
      },
      "source": [
        "#box plot dos dados acima\n",
        "\n",
        "box_plot = px.box(df_apps_clean,\n",
        "             y='Installs',\n",
        "             x='Type',\n",
        "             color='Type',\n",
        "             notched=True,\n",
        "             points='all',\n",
        "             title='Lost Downloads in Paid Apps')\n",
        "\n",
        "box_plot.update_layout(yaxis=dict(type='log'))\n",
        "\n",
        "box_plot.show()"
      ],
      "execution_count": null,
      "outputs": []
    },
    {
      "cell_type": "code",
      "metadata": {
        "id": "tqOntrS7onGt"
      },
      "source": [
        "#revenue de apps pagos\n",
        "df_paid_apps = df_apps_clean[df_apps_clean['Type'] == 'Paid']\n",
        "box_plot = px.box(df_paid_apps,\n",
        "             x='Category',\n",
        "             y='Revenue_Estimate',\n",
        "             title='Paid apps earnings')\n",
        "\n",
        "box_plot.update_layout(xaxis_title='Category',\n",
        "                  yaxis_title='Paid App Revenue',\n",
        "                  xaxis={'categoryorder':'min ascending'},\n",
        "                  yaxis=dict(type='log'))\n",
        "\n",
        "\n",
        "box_plot.show()"
      ],
      "execution_count": null,
      "outputs": []
    },
    {
      "cell_type": "code",
      "metadata": {
        "id": "Jip3hMZ7oqLS"
      },
      "source": [
        "#media de preços dos apps pagos\n",
        "box_plot = px.box(\n",
        "    df_paid_apps,\n",
        "    x='Category',\n",
        "    y='Price',\n",
        "    title='Price per Category'\n",
        ")\n",
        "\n",
        "box_plot.update_layout(\n",
        "    xaxis_title='Category',\n",
        "    yaxis_title='Price',\n",
        "    xaxis={'categoryorder': 'max descending'},\n",
        "    yaxis=dict(type='log')\n",
        ")\n",
        "\n",
        "box_plot.show()"
      ],
      "execution_count": null,
      "outputs": []
    }
  ]
}