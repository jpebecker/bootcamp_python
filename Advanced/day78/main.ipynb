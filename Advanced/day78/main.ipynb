{
  "nbformat": 4,
  "nbformat_minor": 0,
  "metadata": {
    "colab": {
      "provenance": [],
      "collapsed_sections": [
        "cfJUL3WwyiDy",
        "8ehrFfRImqEO"
      ]
    },
    "kernelspec": {
      "name": "python3",
      "display_name": "Python 3"
    }
  },
  "cells": [
    {
      "cell_type": "markdown",
      "metadata": {
        "id": "gltiGJhvrzaL"
      },
      "source": [
        "# DAY 78\n",
        "scikit learn and seaborn introduction"
      ]
    },
    {
      "cell_type": "code",
      "metadata": {
        "id": "NpDk_q_Urroj"
      },
      "source": [
        "import pandas as pd\n",
        "import matplotlib.pyplot as plt\n",
        "import seaborn as sns\n",
        "from sklearn.linear_model import LinearRegression as LR\n",
        "\n",
        "pd.options.display.float_format = '{:,.2f}'.format #apresentacao de valores\n",
        "\n",
        "from pandas.plotting import register_matplotlib_converters\n",
        "register_matplotlib_converters()\n",
        "\n",
        "data = pd.read_csv('cost_revenue_dirty.csv')"
      ],
      "execution_count": null,
      "outputs": []
    },
    {
      "cell_type": "code",
      "metadata": {
        "id": "Pq1WfvRnTRU6"
      },
      "source": [
        "#limpeza de caracteres especiais\n",
        "drop_char = [',', '$'] #characters to remove\n",
        "col = ['USD_Production_Budget',\n",
        "       'USD_Worldwide_Gross',\n",
        "       'USD_Domestic_Gross']\n",
        "for c in col:\n",
        "    for char in drop_char:\n",
        "        data[c] = data[c].astype(str).str.replace(char, \"\")\n",
        "    data[c] = pd.to_numeric(data[c])\n",
        ""
      ],
      "execution_count": null,
      "outputs": []
    },
    {
      "cell_type": "code",
      "metadata": {
        "id": "8G5_FATFTTtb"
      },
      "source": [
        "data.Release_Date = pd.to_datetime(data.Release_Date) #transforma de objeto para date format\n",
        "data.info()"
      ],
      "execution_count": null,
      "outputs": []
    },
    {
      "cell_type": "code",
      "metadata": {
        "id": "MXuRYdy0TWkt"
      },
      "source": [
        "data.describe() #interessante para ver os valores de tendencia central da tabela"
      ],
      "execution_count": null,
      "outputs": []
    },
    {
      "cell_type": "code",
      "metadata": {
        "id": "VpfocexxTXym"
      },
      "source": [
        "#calculando os zeros do dataset\n",
        "zero_world = data[data.USD_Worldwide_Gross == 0]\n",
        "print(f'films that grossed $0 worldwide {len(zero_world)}')\n",
        "#zero_worldwide.sort_values('USD_Production_Budget', ascending=False)\n",
        "\n",
        "zero_domestic = data[data.USD_Domestic_Gross == 0]\n",
        "print(f'films that grossed $0 domestically {len(zero_domestic)}')\n",
        "#zero_domestic.sort_values('USD_Production_Budget', ascending=False)"
      ],
      "execution_count": null,
      "outputs": []
    },
    {
      "cell_type": "code",
      "metadata": {
        "id": "dLd3eeD9TZZ9"
      },
      "source": [
        "#multiple arguments to compare\n",
        "int_releases = data.query('USD_Domestic_Gross == 0 and USD_Worldwide_Gross != 0')\n",
        "print(f'international releases: {len(int_releases)}')\n",
        "int_releases.tail()"
      ],
      "execution_count": null,
      "outputs": []
    },
    {
      "cell_type": "code",
      "metadata": {
        "id": "Xvu-jTCwTavg"
      },
      "source": [
        "#remoçao de filmes não lançados até a coleta de dados\n",
        "coleta_date = pd.Timestamp('2018-5-1')\n",
        "future_releases = data[data.Release_Date >= coleta_date]\n",
        "print(f'unreleased films: {len(future_releases)}')\n",
        "\n",
        "data_clean = data.drop(future_releases.index)"
      ],
      "execution_count": null,
      "outputs": []
    },
    {
      "cell_type": "code",
      "source": [
        "#filmes que perderam dinheiro\n",
        "money_lost = data_clean.loc[data_clean.USD_Production_Budget > data_clean.USD_Worldwide_Gross] #budget maior que revenue\n",
        "print(f'{round(((len(money_lost)/len(data_clean))*100),2)}% dos filmes perderam dinheiro')"
      ],
      "metadata": {
        "id": "_O4rWt-RhoCI"
      },
      "execution_count": null,
      "outputs": []
    },
    {
      "cell_type": "markdown",
      "metadata": {
        "id": "cfJUL3WwyiDy"
      },
      "source": [
        "##Seaborn\n"
      ]
    },
    {
      "cell_type": "code",
      "metadata": {
        "id": "YXa3bp1uTiSS"
      },
      "source": [
        "# sns.scatterplot(data=data_clean,\n",
        "#                 x='USD_Production_Budget',\n",
        "#                 y='USD_Worldwide_Gross')\n",
        "\n",
        "plt.figure(figsize=(8,4), dpi=200)\n",
        "#normal scatter graph\n",
        "axis = sns.scatterplot(data=data_clean,\n",
        "                     x='USD_Production_Budget',\n",
        "                     y='USD_Worldwide_Gross')\n",
        "\n",
        "axis.set(ylim=(0, 3000000000),\n",
        "       xlim=(0, 450000000),\n",
        "       ylabel='Revenue in $ billions',\n",
        "       xlabel='Budget in $100 millions')\n",
        "\n",
        "plt.show()"
      ],
      "execution_count": null,
      "outputs": []
    },
    {
      "cell_type": "code",
      "metadata": {
        "id": "OT0D-i3HTmsB"
      },
      "source": [
        "plt.figure(figsize=(8,4), dpi=200)\n",
        "axis = sns.scatterplot(data=data_clean, #updating the scatter graph to look like bubble graph\n",
        "                     x='USD_Production_Budget',\n",
        "                     y='USD_Worldwide_Gross',\n",
        "                     hue='USD_Worldwide_Gross', # change the colour by gross\n",
        "                     size='USD_Worldwide_Gross',) # change dot size bu gross\n",
        "\n",
        "axis.set(ylim=(0, 3000000000),\n",
        "       xlim=(0, 450000000),\n",
        "       ylabel='Revenue in $ billions',\n",
        "       xlabel='Budget in $100 millions',)\n",
        "\n",
        "plt.show()"
      ],
      "execution_count": null,
      "outputs": []
    },
    {
      "cell_type": "code",
      "metadata": {
        "id": "lak08IPMTn-j"
      },
      "source": [
        "#outro bubble graph mas estilizado\n",
        "plt.figure(figsize=(8,4), dpi=200)\n",
        "\n",
        "#styling do graph\n",
        "with sns.axes_style('darkgrid'):\n",
        "  axis = sns.scatterplot(data=data_clean,\n",
        "                       x='USD_Production_Budget',\n",
        "                       y='USD_Worldwide_Gross',\n",
        "                       hue='USD_Worldwide_Gross', #quanto mais escuro mais gross revenue\n",
        "                       size='USD_Worldwide_Gross') #quanto maior mais gross revenue\n",
        "\n",
        "  axis.set(ylim=(0, 3000000000),\n",
        "        xlim=(0, 450000000),\n",
        "        ylabel='Revenue in $ billions',\n",
        "        xlabel='Budget in $100 millions')"
      ],
      "execution_count": null,
      "outputs": []
    },
    {
      "cell_type": "code",
      "metadata": {
        "id": "qe93nMcBTqQz"
      },
      "source": [
        "plt.figure(figsize=(8,4), dpi=200)\n",
        "\n",
        "with sns.axes_style(\"darkgrid\"):\n",
        "    axis = sns.scatterplot(data=data_clean,\n",
        "                    x='Release_Date',\n",
        "                    y='USD_Production_Budget',\n",
        "                    hue='USD_Worldwide_Gross',\n",
        "                    size='USD_Worldwide_Gross',)\n",
        "\n",
        "    axis.set(ylim=(0, 450000000),\n",
        "           xlim=(data_clean.Release_Date.min(), data_clean.Release_Date.max()), #adiçao do parametro data = grafico temporal\n",
        "           xlabel='Year',\n",
        "           ylabel='Budget in $100 millions')"
      ],
      "execution_count": null,
      "outputs": []
    },
    {
      "cell_type": "code",
      "metadata": {
        "id": "2ajPcWMJTsom"
      },
      "source": [
        "#criando nova coluna no dataframe para agrupamento por decadas\n",
        "dt_index = pd.DatetimeIndex(data_clean.Release_Date)\n",
        "years = dt_index.year\n",
        "decades = years//10*10\n",
        "data_clean['Decade'] = decades\n",
        "\n",
        "#novos dataframes com filmes antes e dps da decada de 60\n",
        "old_films = data_clean[data_clean.Decade <= 1960]\n",
        "new_films = data_clean[data_clean.Decade > 1960]\n",
        "\n",
        "data_clean.sample() #verificando se deu boa"
      ],
      "execution_count": null,
      "outputs": []
    },
    {
      "cell_type": "code",
      "source": [
        "#regressao linear de budgets vs revenues em filmes antigos USANDO SNS.REGPLOT\n",
        "# sns.regplot(data=old_films,\n",
        "#             x='USD_Production_Budget',\n",
        "#             y='USD_Worldwide_Gross')\n",
        "\n",
        "plt.figure(figsize=(8,4), dpi=200)\n",
        "with sns.axes_style(\"whitegrid\"):\n",
        "  sns.regplot(data=old_films,\n",
        "            x='USD_Production_Budget',\n",
        "            y='USD_Worldwide_Gross',\n",
        "            scatter_kws = {'alpha': 0.4},\n",
        "            line_kws = {'color': 'red'})"
      ],
      "metadata": {
        "id": "fAIIvmzLi5vk"
      },
      "execution_count": null,
      "outputs": []
    },
    {
      "cell_type": "code",
      "metadata": {
        "id": "6cOVsxqvTui2"
      },
      "source": [
        "#regressao linear de budgets vs revenues em filmes novos USANDO SNS.REGPLOT\n",
        "plt.figure(figsize=(8,4), dpi=200)\n",
        "with sns.axes_style('darkgrid'):\n",
        "  ax = sns.regplot(data=new_films,\n",
        "                   x='USD_Production_Budget',\n",
        "                   y='USD_Worldwide_Gross',\n",
        "                   color='#2f4b7c',\n",
        "                   scatter_kws = {'alpha': 0.3},\n",
        "                   line_kws = {'color': 'orange'})\n",
        "\n",
        "  ax.set(ylim=(0, 3000000000),\n",
        "         xlim=(0, 450000000),\n",
        "         ylabel='Revenue in $ billions',\n",
        "         xlabel='Budget in $100 millions')"
      ],
      "execution_count": null,
      "outputs": []
    },
    {
      "cell_type": "markdown",
      "source": [
        "##Scikit Learn"
      ],
      "metadata": {
        "id": "8ehrFfRImqEO"
      }
    },
    {
      "cell_type": "code",
      "source": [
        "#REGRESãO LINERAR BY SCIKIT LEARN com dados de revenues\n",
        "regression = LR()\n",
        "#capital X = FEATURES\n",
        "X = pd.DataFrame(new_films, columns=['USD_Production_Budget']) #alimentando as infos de x\n",
        "\n",
        "#y lowercase = TARGET\n",
        "y = pd.DataFrame(new_films, columns=['USD_Worldwide_Gross']) #alimentando as infos de y\n",
        "\n",
        "regression.fit(X, y)\n",
        "\n",
        "#VALOR DE THETA ZERO = INTERCEPT =  how much a movie would make if the budget was 0.\n",
        "print(regression.intercept_)\n",
        "#VALOR DE THETA ONE = SLOPE =  how much more a movie would make if the budget were increased by $1\n",
        "print(regression.coef_)\n",
        "\n",
        "# Regression-squared\n",
        "print(f'{round((regression.score(X, y))*100)}%') #the model explains about this % of the variance in movie revenue."
      ],
      "metadata": {
        "id": "fe-PONPbmti5"
      },
      "execution_count": null,
      "outputs": []
    },
    {
      "cell_type": "code",
      "source": [
        "#regressão linear baseada num budget personalizado e nos dados acima CONSIDERE O X e Y do bloco superior\n",
        "budget = 300000000 #Million USD\n",
        "revenue_estimate = regression.intercept_[0] + regression.coef_[0,0]*budget\n",
        "revenue_estimate = round(revenue_estimate, -6)\n",
        "\n",
        "#formatacao textual\n",
        "s = f\"{revenue_estimate:,.0f}\"\n",
        "print(f'The estimated revenue for a $300M film is around ${s}.')"
      ],
      "metadata": {
        "id": "zLAT-wUlptLp"
      },
      "execution_count": null,
      "outputs": []
    }
  ]
}