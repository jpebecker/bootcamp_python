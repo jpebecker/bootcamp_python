{
  "nbformat": 4,
  "nbformat_minor": 0,
  "metadata": {
    "colab": {
      "provenance": []
    },
    "kernelspec": {
      "name": "python3",
      "display_name": "Python 3"
    }
  },
  "cells": [
    {
      "cell_type": "markdown",
      "metadata": {
        "id": "t72p7Wvp8fKU"
      },
      "source": [
        "# Day 77\n",
        "introduction to:\n",
        "\n",
        "<img src=\"https://i.imgur.com/dZ1XE9o.png\" width=400>"
      ]
    },
    {
      "cell_type": "code",
      "metadata": {
        "id": "b9YJCGC_8mhB"
      },
      "source": [
        "import numpy as np\n",
        "import matplotlib.pyplot as plt\n",
        "from PIL import Image"
      ],
      "execution_count": null,
      "outputs": []
    },
    {
      "cell_type": "code",
      "metadata": {
        "id": "ITaA6vmejMNF"
      },
      "source": [
        "one_dimension_array = np.array([1.1, 9.2, 8.1, 4.7])\n",
        "\n",
        "array_2d = np.array([[1, 2, 3, 9],\n",
        "                     [5, 6, 7, 8]])\n",
        "\n",
        "tensor_array =         np.array(\n",
        "    [[[0, 1, 2, 3],\n",
        "      [4, 5, 6, 7]], #primeira linha\n",
        "\n",
        "     [[7, 86, 6, 98],\n",
        "      [5, 1, 0, 4]], #segunda linha\n",
        "\n",
        "     [[5, 36, 32, 48],\n",
        "      [97, 0, 27, 18]]]) #terceira linha"
      ],
      "execution_count": null,
      "outputs": []
    },
    {
      "cell_type": "markdown",
      "metadata": {
        "id": "xTclC9QMWaL3"
      },
      "source": [
        "# NumPy Mini-Challenges"
      ]
    },
    {
      "cell_type": "markdown",
      "metadata": {
        "id": "D5jAqudtWeTN"
      },
      "source": [
        "#### **Challenge 1**: Use [`.arange()`](https://numpy.org/devdocs/reference/generated/numpy.arange.html)to createa a vector `a` with values ranging from 10 to 29. You should get this:\n",
        "\n",
        "`print(a)`\n",
        "\n",
        "`[10 11 12 13 14 15 16 17 18 19 20 21 22 23 24 25 26 27 28 29]`"
      ]
    },
    {
      "cell_type": "code",
      "metadata": {
        "id": "1bxtrVjJi83g"
      },
      "source": [
        "a = np.arange(10,30)\n",
        "print(a)"
      ],
      "execution_count": null,
      "outputs": []
    },
    {
      "cell_type": "markdown",
      "metadata": {
        "id": "duI_CwC5XmF_"
      },
      "source": [
        "#### **Challenge 2**: Use Python slicing techniques on `a` to:\n",
        "* Create an array containing only the last 3 values of `a`\n",
        "* Create a subset with only the 4th, 5th, and 6th values\n",
        "* Create a subset of `a` containing all the values except for the first 12 (i.e., `[22, 23, 24, 25, 26, 27, 28, 29]`)\n",
        "* Create a subset that only contains the even numbers (i.e, every second number)"
      ]
    },
    {
      "cell_type": "code",
      "metadata": {
        "id": "oR2l2HMGi6mS"
      },
      "source": [
        "print(a[-3:])\n",
        "print(a[3:6])\n",
        "\n",
        "print(a[12:])\n",
        "print(a[::2])"
      ],
      "execution_count": null,
      "outputs": []
    },
    {
      "cell_type": "markdown",
      "metadata": {
        "id": "G7UMQZjiYBjS"
      },
      "source": [
        "#### **Challenge 3**:Reverse the order of the values in `a`, so that the first element comes last:\n",
        "\n",
        "`[29, 28, 27, 26, 25, 24, 23, 22, 21, 20, 19, 18, 17, 16, 15, 14, 13,\n",
        "       12, 11, 10]`\n",
        "\n",
        "\n",
        "If you need a hint, you can check out this part of the [NumPy beginner's guide](\n",
        "https://numpy.org/devdocs/user/absolute_beginners.html#how-to-reverse-an-array)"
      ]
    },
    {
      "cell_type": "code",
      "metadata": {
        "id": "nGmDLPK6i4Nk"
      },
      "source": [
        "print(a[::-1])"
      ],
      "execution_count": null,
      "outputs": []
    },
    {
      "cell_type": "markdown",
      "metadata": {
        "id": "WBJJbWjKfULr"
      },
      "source": [
        "#### **Challenge 4**: Print out all the indices of the non-zero elements in this array: [6,0,9,0,0,5,0]"
      ]
    },
    {
      "cell_type": "code",
      "metadata": {
        "id": "0J0gmKqsi25-"
      },
      "source": [
        "example = np.array([6,0,9,0,0,5,0])\n",
        "indices_zero = np.nonzero(example)\n",
        "print(indices_zero)"
      ],
      "execution_count": null,
      "outputs": []
    },
    {
      "cell_type": "markdown",
      "metadata": {
        "id": "LxorfXnOffUw"
      },
      "source": [
        "#### **Challenge 5**: Use NumPy to generate a 3x3x3 array with random numbers\n",
        "\n",
        "Hint: Use the [`.random()` function](https://numpy.org/doc/stable/reference/random/index.html?highlight=random#module-numpy.random)"
      ]
    },
    {
      "cell_type": "code",
      "metadata": {
        "id": "2gIg5UsYi1CC"
      },
      "source": [
        "z = np.random.random((3,3,3))\n",
        "print(z)"
      ],
      "execution_count": null,
      "outputs": []
    },
    {
      "cell_type": "markdown",
      "metadata": {
        "id": "ps1d14z7ovv1"
      },
      "source": [
        "#### **Challenge 6**: Use [`.linspace()`](https://numpy.org/doc/stable/reference/generated/numpy.linspace.html) to create a vector `x` of size 9 with values spaced out evenly between 0 to 100 (both included)."
      ]
    },
    {
      "cell_type": "code",
      "metadata": {
        "id": "SB2lUDTBizzk"
      },
      "source": [
        "x = np.linspace(0, 100, num=9)\n",
        "print(x)"
      ],
      "execution_count": null,
      "outputs": []
    },
    {
      "cell_type": "markdown",
      "metadata": {
        "id": "GCSPVde3f0kE"
      },
      "source": [
        "#### **Challenge 7**: Use [`.linspace()`](https://numpy.org/doc/stable/reference/generated/numpy.linspace.html) to create another vector `y` of size 9 with values between -3 to 3 (both included). Then plot `x` and `y` on a line chart using Matplotlib."
      ]
    },
    {
      "cell_type": "code",
      "metadata": {
        "id": "cIu8HlJFiyF9"
      },
      "source": [
        "y = np.linspace(start=-3, stop=3, num=9)\n",
        "plt.plot(x, y)\n",
        "plt.show()"
      ],
      "execution_count": null,
      "outputs": []
    },
    {
      "cell_type": "markdown",
      "metadata": {
        "id": "Wt5aIGQLlz5i"
      },
      "source": [
        "#### **Challenge 8**: Use NumPy to generate an array called `noise` with shape 128x128x3 that has random values. Then use Matplotlib's [`.imshow()`](https://matplotlib.org/3.1.1/api/_as_gen/matplotlib.pyplot.imshow.html) to display the array as an image."
      ]
    },
    {
      "cell_type": "code",
      "metadata": {
        "id": "_LSYx_fliwrw"
      },
      "source": [
        "rand = np.random.random((128,128,3))\n",
        "print(rand.shape)\n",
        "plt.imshow(rand)"
      ],
      "execution_count": null,
      "outputs": []
    },
    {
      "cell_type": "markdown",
      "source": [
        "####NUMPY ARRAY OPERATIONS"
      ],
      "metadata": {
        "id": "wlp0MZ4hWyCe"
      }
    },
    {
      "cell_type": "code",
      "metadata": {
        "id": "GbSwkEwHX9lb"
      },
      "source": [
        "v1 = np.array([4, 5, 2, 7])\n",
        "v2 = np.array([2, 1, 3, 3])\n",
        "print(v1 + v2)\n",
        "# Python Lists vs ndarrays\n",
        "list1 = [4, 5, 2, 7]\n",
        "list2 = [2, 1, 3, 3]\n",
        "print(list1 + list2)"
      ],
      "execution_count": null,
      "outputs": []
    },
    {
      "cell_type": "code",
      "metadata": {
        "id": "Lhmedp3Qil5I"
      },
      "source": [
        "a1 = np.array([[1, 3],\n",
        "               [0, 1],\n",
        "               [6, 2],\n",
        "               [9, 7]])\n",
        "\n",
        "b1 = np.array([[4, 1, 3],\n",
        "               [5, 8, 5]])\n",
        "print(f'{a1.shape}: a has {a1.shape[0]} rows and {a1.shape[1]} columns.')\n",
        "print(f'{b1.shape}: b has {b1.shape[0]} rows and {b1.shape[1]} columns.')\n",
        "print('Dimensions of result: (4x2)*(2x3)=(4x3)')\n",
        "print('the result is:\\n')\n",
        "c = np.matmul(a1, b1)\n",
        "print(c)\n",
        "\n",
        "print(c.shape[0]) #linhas\n",
        "print(c.shape[1]) #colunas"
      ],
      "execution_count": null,
      "outputs": []
    },
    {
      "cell_type": "markdown",
      "metadata": {
        "id": "n8uiDqlb2pTO"
      },
      "source": [
        "# Manipulating Images as ndarrays\n"
      ]
    },
    {
      "cell_type": "code",
      "metadata": {
        "id": "P1TS4QSqicaB"
      },
      "source": [
        "#imagem exibida normalmente\n",
        "file_name = 'yummy_macarons.jpg'\n",
        "my_image = Image.open(file_name)\n",
        "img_array = np.array(my_image)\n",
        "plt.imshow(img_array)"
      ],
      "execution_count": null,
      "outputs": []
    },
    {
      "cell_type": "code",
      "metadata": {
        "id": "K-jub5UDicVw"
      },
      "source": [
        "#grey_vals = np.array([0.2126, 0.7152, 0.0722])\n",
        "#sRGB_array = img_array / 255\n",
        "#img_gray = np.matmul(sRGB_array, grey_vals)\n",
        "#plt.imshow(img_gray, cmap='gray') #preto e branco\n",
        "\n",
        "#plt.imshow(np.flip(img_gray), cmap='gray) #flippada e preto e branco\n",
        "#plt.imshow(np.rot90(img_array)) #rotacionada\n",
        "\n",
        "#solar_img = 255 - img_array #com a cor invertida\n",
        "#plt.imshow(solar_img)"
      ],
      "execution_count": null,
      "outputs": []
    }
  ]
}