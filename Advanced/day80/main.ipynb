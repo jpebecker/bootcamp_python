{
  "nbformat": 4,
  "nbformat_minor": 0,
  "metadata": {
    "kernelspec": {
      "display_name": "Python 3",
      "language": "python",
      "name": "python3"
    },
    "language_info": {
      "codemirror_mode": {
        "name": "ipython",
        "version": 3
      },
      "file_extension": ".py",
      "mimetype": "text/x-python",
      "name": "python",
      "nbconvert_exporter": "python",
      "pygments_lexer": "ipython3",
      "version": "3.7.9"
    },
    "colab": {
      "provenance": []
    }
  },
  "cells": [
    {
      "cell_type": "markdown",
      "metadata": {
        "id": "4q6Z8m5n63db"
      },
      "source": [
        "# DAY 80\n",
        "Dr Semmelweis research of 1861"
      ]
    },
    {
      "cell_type": "code",
      "metadata": {
        "id": "kNoOuCg563de"
      },
      "source": [
        "import pandas as pd\n",
        "import numpy as np\n",
        "import plotly.express as px\n",
        "import seaborn as sns\n",
        "import matplotlib.pyplot as plt\n",
        "import matplotlib.dates as mdates\n",
        "from pandas.plotting import register_matplotlib_converters\n",
        "from scipy import stats\n",
        "\n",
        "pd.options.display.float_format = '{:,.2f}'.format #formatacao textual\n",
        "register_matplotlib_converters() #locators for ticks on the time axis\n",
        "#Locators\n",
        "years = mdates.YearLocator()\n",
        "months = mdates.MonthLocator()\n",
        "years_fmt = mdates.DateFormatter('%Y')\n",
        "\n",
        "yearly_data = pd.read_csv('annual_deaths_by_clinic.csv')\n",
        "monthly_data = pd.read_csv('monthly_deaths.csv',parse_dates=['date'])# parse_dates = DateTime conversion"
      ],
      "execution_count": null,
      "outputs": []
    },
    {
      "cell_type": "code",
      "metadata": {
        "id": "YV7Y4mhp63dj"
      },
      "source": [
        "#yearly_data.isna()\n",
        "#yearly_data.duplicated()\n",
        "#yearly_data.describe()\n",
        "#yearly_data.info()\n",
        "\n",
        "#monthly_data.describe()\n",
        "#monthly_data.info()\n",
        "#monthly_data.isna()\n",
        "#monthly_data.duplicated()"
      ],
      "execution_count": null,
      "outputs": []
    },
    {
      "cell_type": "code",
      "metadata": {
        "id": "Wdr6_0pk63dh"
      },
      "source": [
        "dth_prob = yearly_data.deaths.sum() / yearly_data.births.sum() * 100\n",
        "print(f'Chances of the mother dying in the 1840s in Vienna: {dth_prob:.3}%')\n",
        "\n",
        "plt.figure(figsize=(14,8), dpi=200)\n",
        "plt.title('Number of Monthly Births and Deaths', fontsize=15)\n",
        "plt.ylabel('Mortes')\n",
        "axis1 = plt.gca()\n",
        "axis2 = axis1.twinx()\n",
        "\n",
        "axis1.grid(color='gray', linestyle='--')\n",
        "\n",
        "axis1.plot(monthly_data.date, #NASCIMENTOS = BLUE\n",
        "         monthly_data.births,\n",
        "         color='skyblue',\n",
        "         linewidth=3)\n",
        "\n",
        "axis2.plot(monthly_data.date,  #MORTES = RED\n",
        "         monthly_data.deaths,\n",
        "         color='red',\n",
        "         linewidth=2,\n",
        "         linestyle='--')\n",
        "\n",
        "plt.show()"
      ],
      "execution_count": null,
      "outputs": []
    },
    {
      "cell_type": "code",
      "metadata": {
        "id": "CDYyshRAHySR"
      },
      "source": [
        "#before graph with ticks in time\n",
        "plt.figure(figsize=(14,8), dpi=200)\n",
        "plt.title('Monthly Births and Deaths', fontsize=16)\n",
        "plt.yticks(fontsize=14)\n",
        "plt.xticks(fontsize=14, rotation=45)\n",
        "\n",
        "ax1 = plt.gca()\n",
        "ax2 = ax1.twinx()\n",
        "\n",
        "ax1.set_ylabel('Births', color='green', fontsize=18)\n",
        "ax2.set_ylabel('Deaths', color='red', fontsize=18)\n",
        "\n",
        "# Use Locators\n",
        "ax1.set_xlim([monthly_data.date.min(), monthly_data.date.max()])\n",
        "ax1.xaxis.set_major_locator(years)\n",
        "ax1.xaxis.set_major_formatter(years_fmt)\n",
        "ax1.xaxis.set_minor_locator(months)\n",
        "\n",
        "ax1.grid(color='grey', linestyle='--')\n",
        "\n",
        "ax1.plot(monthly_data.date,\n",
        "         monthly_data.births,\n",
        "         color='lightgreen',\n",
        "         linewidth=3)\n",
        "\n",
        "ax2.plot(monthly_data.date,\n",
        "         monthly_data.deaths,\n",
        "         color='red',\n",
        "         linewidth=2,\n",
        "         linestyle='--')\n",
        "\n",
        "plt.show()"
      ],
      "execution_count": null,
      "outputs": []
    },
    {
      "cell_type": "code",
      "metadata": {
        "id": "0CmnKF4_Hyg0"
      },
      "source": [
        "#divisao de pacientes por clinica\n",
        "# born_graph = px.line(yearly_data,\n",
        "#                x='year',\n",
        "#                y='births', #main arg\n",
        "#                color='clinic',\n",
        "#                title='Yearly Births by Clinic')\n",
        "\n",
        "# born_graph.show()\n",
        "\n",
        "# dth_graph = px.line(yearly_data,\n",
        "#                x='year',\n",
        "#                y='deaths', #main arg\n",
        "#                color='clinic',\n",
        "#                title='Yearly Deaths by Clinic')\n",
        "\n",
        "# dth_graph.show()\n",
        "\n",
        "both_graph = px.line(\n",
        "    yearly_data,\n",
        "    x='year',\n",
        "    y=['births','deaths'],\n",
        "    color='clinic',\n",
        "    markers=True,\n",
        "    title='Yearly Births and Deaths by Clinic'\n",
        ")\n",
        "\n",
        "both_graph.show()"
      ],
      "execution_count": null,
      "outputs": []
    },
    {
      "cell_type": "code",
      "metadata": {
        "id": "xdyyfk2oH0Ab"
      },
      "source": [
        "#porcentagem de mortalidade\n",
        "yearly_data['pct_deaths'] = yearly_data.deaths / yearly_data.births\n",
        "\n",
        "clinic_1 = yearly_data[yearly_data.clinic == 'clinic 1']\n",
        "avg_c1 = clinic_1.deaths.sum() / clinic_1.births.sum() * 100\n",
        "print(f'Average death rate in clinic 1 is {avg_c1:.3}%.')\n",
        "\n",
        "clinic_2 = yearly_data[yearly_data.clinic == 'clinic 2']\n",
        "avg_c2 = clinic_2.deaths.sum() / clinic_2.births.sum() * 100\n",
        "print(f'Average death rate in clinic 2 is {avg_c2:.3}%.')\n",
        "\n",
        "line_chart = px.line(yearly_data,\n",
        "               x='year',\n",
        "               y='pct_deaths',\n",
        "               color='clinic',\n",
        "               title='Yearly Deaths by Clinic')\n",
        "\n",
        "line_chart.show()"
      ],
      "execution_count": null,
      "outputs": []
    },
    {
      "cell_type": "code",
      "metadata": {
        "id": "8emz_sBZH2GL"
      },
      "source": [
        "#analise do efeito de lavar as maos na mortalidade\n",
        "monthly_data['pct_deaths'] = monthly_data.deaths/monthly_data.births\n",
        "# Date when handwashing was obligated\n",
        "handwashing_start = pd.to_datetime('1847-06-01')\n",
        "\n",
        "before_washing = monthly_data[monthly_data.date < handwashing_start]\n",
        "after_washing = monthly_data[monthly_data.date >= handwashing_start]\n",
        "bw_rate = before_washing.deaths.sum() / before_washing.births.sum() * 100\n",
        "aw_rate = after_washing.deaths.sum() / after_washing.births.sum() * 100\n",
        "print(f'Average death rate before 1847 was {bw_rate:.4}%')\n",
        "print(f'Average death rate AFTER 1847 was {aw_rate:.3}%')\n",
        "\n",
        "roll_df = before_washing.set_index('date')\n",
        "roll_df = roll_df.rolling(window=6).mean()"
      ],
      "execution_count": null,
      "outputs": []
    },
    {
      "cell_type": "code",
      "metadata": {
        "id": "qWcjo7O5H3g3"
      },
      "source": [
        "#unindo os dados do bloco anterior para demonstracao em grafico abaixo\n",
        "plt.figure(figsize=(14,8), dpi=200)\n",
        "plt.title('Percentage of Monthly Deaths over Time', fontsize=15)\n",
        "plt.yticks(fontsize=14)\n",
        "plt.xticks(fontsize=14, rotation=45)\n",
        "\n",
        "plt.ylabel('Death Percentage', color='red', fontsize=16)\n",
        "\n",
        "main_axis = plt.gca()\n",
        "main_axis.xaxis.set_major_locator(years)\n",
        "main_axis.xaxis.set_major_formatter(years_fmt)\n",
        "main_axis.xaxis.set_minor_locator(months)\n",
        "main_axis.set_xlim([monthly_data.date.min(), monthly_data.date.max()])\n",
        "\n",
        "plt.grid(color='grey', linestyle='--')\n",
        "\n",
        "ma_line, = plt.plot(roll_df.index,\n",
        "                    roll_df.pct_deaths,\n",
        "                    color='red',\n",
        "                    linewidth=3,\n",
        "                    linestyle='--',\n",
        "                    label='6 month Moving Average')\n",
        "##########################################################\n",
        "bw_line, = plt.plot(before_washing.date,\n",
        "                    before_washing.pct_deaths,\n",
        "                    color='orange',\n",
        "                    linewidth=1,\n",
        "                    linestyle='--',\n",
        "                    label='Before Handwashing')\n",
        "#########################################################3\n",
        "aw_line, = plt.plot(after_washing.date,\n",
        "                    after_washing.pct_deaths,\n",
        "                    color='purple',\n",
        "                    linewidth=3,\n",
        "                    marker='o',\n",
        "                    label='After Handwashing')\n",
        "\n",
        "plt.legend(handles=[ma_line, bw_line, aw_line],fontsize=18)\n",
        "\n",
        "plt.show()"
      ],
      "execution_count": null,
      "outputs": []
    },
    {
      "cell_type": "code",
      "metadata": {
        "id": "pSeMQxKMH52c"
      },
      "source": [
        "#com base nos dados do grafico passado é possível concluir que:\n",
        "\n",
        "avg_before = before_washing.pct_deaths.mean() * 100\n",
        "print(f'Death chance during childbirth BEFORE handwashing: {avg_before:.3}%.')\n",
        "\n",
        "avg_after = after_washing.pct_deaths.mean() * 100\n",
        "print(f'Death chance during childbirth AFTER handwashing: {avg_after:.3}%.')\n",
        "\n",
        "mean_diff = avg_before - avg_after\n",
        "print(f'Handwashing reduced the proportion of deaths by {mean_diff:.3}%')\n",
        "\n",
        "times = avg_before / avg_after\n",
        "print(f'A {times:.2}x improvement')"
      ],
      "execution_count": null,
      "outputs": []
    },
    {
      "cell_type": "code",
      "metadata": {
        "id": "G9Zg86loH5a2"
      },
      "source": [
        "#relacao da condicao com a porcentagem de mortes\n",
        "monthly_data['washing_hands'] = np.where(monthly_data.date < handwashing_start, 'No', 'Yes') #compara a data e completa os valores\n",
        "\n",
        "box_death_graph = px.box(monthly_data,\n",
        "             x='washing_hands',\n",
        "             y='pct_deaths',\n",
        "             color='washing_hands',\n",
        "             title='Stats Change with Handwashing')\n",
        "\n",
        "box_death_graph.update_layout(xaxis_title='Washing Hands Condition',\n",
        "                  yaxis_title='Monthly Deaths Percentage',)\n",
        "\n",
        "box_death_graph.show()\n"
      ],
      "execution_count": null,
      "outputs": []
    },
    {
      "cell_type": "code",
      "metadata": {
        "id": "Xg65zUR8H7c2"
      },
      "source": [
        "#histograma + boxplot com base nos dados do bloco anterior\n",
        "hist = px.histogram(monthly_data,\n",
        "                   x='pct_deaths',\n",
        "                   color='washing_hands',\n",
        "                   nbins=30,\n",
        "                   opacity=0.6,\n",
        "                   barmode='overlay',\n",
        "                   histnorm='percent',\n",
        "                   marginal='box',)\n",
        "\n",
        "hist.update_layout(xaxis_title='Monthly Deaths Proportion',\n",
        "                   yaxis_title='Quantity',)\n",
        "\n",
        "hist.show()"
      ],
      "execution_count": null,
      "outputs": []
    },
    {
      "cell_type": "code",
      "metadata": {
        "id": "4aTJqbcVH9MG"
      },
      "source": [
        "#Kernel Density Estimate KDE\n",
        "\n",
        "plt.figure(dpi=200)\n",
        "sns.kdeplot(before_washing.pct_deaths,\n",
        "            fill=True,\n",
        "            clip=(0,1))\n",
        "sns.kdeplot(after_washing.pct_deaths,\n",
        "            fill=True,\n",
        "            clip=(0,1))\n",
        "plt.title('Estimate Distribution of M Death Rate Bef and Aft Handwashing')\n",
        "plt.xlim(0, 0.40)\n",
        "plt.show()"
      ],
      "execution_count": null,
      "outputs": []
    },
    {
      "cell_type": "code",
      "metadata": {
        "id": "1His6I9tH-U7"
      },
      "source": [
        "#determine if there is a significant difference between the means of two independent groups\n",
        "#If the p-value is less than 0.01, we reject the null hypothesis and conclude that there is a statistically significant difference between the two groups\n",
        "\n",
        "t_stat, p_value = stats.ttest_ind(a=before_washing.pct_deaths, b=after_washing.pct_deaths)\n",
        "print(f'p-value is {p_value:.10f}')\n",
        "print(f't-statistic is {t_stat:.4f}')"
      ],
      "execution_count": null,
      "outputs": []
    },
    {
      "cell_type": "markdown",
      "metadata": {
        "id": "ljuC4qkz6BbA"
      },
      "source": [
        "CONCLUSION:\n",
        "\n",
        "<img src=https://i.imgur.com/rvjNVzQ.gif>"
      ]
    }
  ]
}