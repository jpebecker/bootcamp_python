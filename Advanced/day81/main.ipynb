{
  "nbformat": 4,
  "nbformat_minor": 0,
  "metadata": {
    "colab": {
      "provenance": []
    },
    "kernelspec": {
      "name": "python3",
      "display_name": "Python 3"
    },
    "language_info": {
      "name": "python"
    }
  },
  "cells": [
    {
      "cell_type": "markdown",
      "source": [
        "#DAY 81\n",
        "House Data from Boston Massachusetts in the 1970s"
      ],
      "metadata": {
        "id": "gWlAtYAhHQfF"
      }
    },
    {
      "cell_type": "code",
      "execution_count": null,
      "metadata": {
        "id": "OzKYinhrGhYA"
      },
      "outputs": [],
      "source": [
        "import pandas as pd\n",
        "import numpy as np\n",
        "import seaborn as sns\n",
        "import plotly.express as px\n",
        "import matplotlib.pyplot as plt\n",
        "from sklearn.linear_model import LinearRegression\n",
        "from sklearn.model_selection import train_test_split as Train_Test\n",
        "\n",
        "pd.options.display.float_format = '{:,.2f}'.format #text presentation\n",
        "\n",
        "data = pd.read_csv('boston.csv', index_col=0) #obs: primeira linha tem os numeros das linhas"
      ]
    },
    {
      "cell_type": "code",
      "source": [
        "#verificacao dos dados e integridade das infos (NaN e Duplicatas)\n",
        "#data.shape\n",
        "#data.columns # column names\n",
        "#data.sample()\n",
        "#data.info()\n",
        "#data.isna().sum()\n",
        "#data.duplicated().sum()\n",
        "data.describe()"
      ],
      "metadata": {
        "id": "6oO-HaA2Htuf"
      },
      "execution_count": null,
      "outputs": []
    },
    {
      "cell_type": "code",
      "source": [
        "#distribuicao de precos\n",
        "\n",
        "sns.displot(data['PRICE'],\n",
        "            bins=50,\n",
        "            aspect=2,\n",
        "            kde=True,\n",
        "            color='orange')\n",
        "\n",
        "plt.title(f'1970s Property Prices in Boston. Average: ${(1000*data.PRICE.mean()):.6}')\n",
        "plt.xlabel('Price in thousands')\n",
        "plt.ylabel('Nr. of Homes')\n",
        "\n",
        "plt.show()"
      ],
      "metadata": {
        "id": "831rnJinI9sk"
      },
      "execution_count": null,
      "outputs": []
    },
    {
      "cell_type": "code",
      "source": [
        "#distancia das propriedades aos grandes centros\n",
        "sns.displot(data.DIS,\n",
        "            bins=50,\n",
        "            aspect=2,\n",
        "            kde=True,\n",
        "            color='lightgreen')\n",
        "\n",
        "plt.title(f'Distance to Urban Centres. Average: {(data.DIS.mean()):.2} miles')\n",
        "plt.xlabel('Distance in Miles to 5 Boston Employment Centres')\n",
        "plt.ylabel('Nr. of Homes')\n",
        "\n",
        "plt.show()"
      ],
      "metadata": {
        "id": "bu6O9t5oK07Q"
      },
      "execution_count": null,
      "outputs": []
    },
    {
      "cell_type": "code",
      "source": [
        "#quantidade de quartos por casa\n",
        "sns.displot(data.RM,\n",
        "            aspect=2,\n",
        "            kde=True,\n",
        "            color='purple')\n",
        "\n",
        "plt.title(f'Rooms in Boston Houses. Average: {data.RM.mean():.2} rooms')\n",
        "plt.xlabel('Average Number of Rooms')\n",
        "plt.ylabel('Nr. of Homes')\n",
        "\n",
        "plt.show()"
      ],
      "metadata": {
        "id": "zDhFsEyMLRpi"
      },
      "execution_count": null,
      "outputs": []
    },
    {
      "cell_type": "code",
      "source": [
        "#acesso a rodovias\n",
        "plt.figure(figsize=(10, 5), dpi=200)\n",
        "\n",
        "plt.hist(data['RAD'],\n",
        "         bins=24,\n",
        "         ec='black',\n",
        "         color='grey',\n",
        "         rwidth=0.5)\n",
        "\n",
        "plt.xlabel('Access to Highways')\n",
        "plt.ylabel('Nr. of Houses')\n",
        "plt.show()"
      ],
      "metadata": {
        "id": "QNzTfsADMMe3"
      },
      "execution_count": null,
      "outputs": []
    },
    {
      "cell_type": "code",
      "source": [
        "#proximidade a um rio\n",
        "river_access = data['CHAS'].value_counts()\n",
        "\n",
        "h_bar = px.bar(x=['No', 'Yes'],\n",
        "             y=river_access.values,\n",
        "             color=river_access.values,\n",
        "             color_continuous_scale=px.colors.sequential.haline,\n",
        "             title='Proximity to Charles River')\n",
        "\n",
        "h_bar.update_layout(xaxis_title='Located Next to the River',\n",
        "                  yaxis_title='Number of Homes',\n",
        "                  coloraxis_showscale=False)\n",
        "h_bar.show()"
      ],
      "metadata": {
        "id": "Y73_qBHoMl79"
      },
      "execution_count": null,
      "outputs": []
    },
    {
      "cell_type": "code",
      "source": [
        "#graficos da estrutura do dataframe inteiro (Matriz das relações entre tabelas)\n",
        "sns.pairplot(data)\n",
        "sns.pairplot(data, kind='reg', plot_kws={'line_kws':{'color': 'red'}}) #regression line\n",
        "plt.show()"
      ],
      "metadata": {
        "id": "_eAd1L_gNFhz"
      },
      "execution_count": null,
      "outputs": []
    },
    {
      "cell_type": "code",
      "source": [
        "#JOINTPLOT -> relaçao entre duas variaveis 'DIS' e 'NOX' em um scatterplox\n",
        "with sns.axes_style('darkgrid'):\n",
        "  sns.jointplot(x=data['DIS'],\n",
        "                y=data['NOX'],\n",
        "                height=8,\n",
        "                kind='scatter',\n",
        "                color='deeppink',\n",
        "                joint_kws={'alpha':0.5})\n",
        "\n",
        "plt.show()"
      ],
      "metadata": {
        "id": "A48EFOvgN07y"
      },
      "execution_count": null,
      "outputs": []
    },
    {
      "cell_type": "code",
      "source": [
        "#JOINTPLOT -> relaçao entre variaveis 'NOX' e 'INDUS' em um scatterplox\n",
        "with sns.axes_style('darkgrid'):\n",
        "  sns.jointplot(x=data.NOX,\n",
        "                y=data.INDUS,\n",
        "                # kind='hex',\n",
        "                height=7,\n",
        "                color='darkgreen',\n",
        "                joint_kws={'alpha':0.5})\n",
        "plt.show()"
      ],
      "metadata": {
        "id": "1Yx0BWWmOLxa"
      },
      "execution_count": null,
      "outputs": []
    },
    {
      "cell_type": "code",
      "source": [
        "#JOINTPLOT -> relaçao entre variaveis 'LSTAT' e 'RM' em um scatterplox\n",
        "with sns.axes_style('darkgrid'):\n",
        "  sns.jointplot(x=data['LSTAT'],\n",
        "                y=data['RM'],\n",
        "                # kind='hex',\n",
        "                height=7,\n",
        "                color='orange',\n",
        "                joint_kws={'alpha':0.5})\n",
        "plt.show()"
      ],
      "metadata": {
        "id": "f8TROK0OOVbv"
      },
      "execution_count": null,
      "outputs": []
    },
    {
      "cell_type": "code",
      "source": [
        "#JOINTPLOT -> relaçao entre variaveis 'LSTAT' e 'PRICE' em um scatterplox\n",
        "with sns.axes_style('darkgrid'):\n",
        "  sns.jointplot(x=data.LSTAT,\n",
        "                y=data.PRICE,\n",
        "                # kind='hex',\n",
        "                height=7,\n",
        "                color='crimson',\n",
        "                joint_kws={'alpha':0.5})\n",
        "plt.show()"
      ],
      "metadata": {
        "id": "rLEm0Yi4Ofng"
      },
      "execution_count": null,
      "outputs": []
    },
    {
      "cell_type": "code",
      "source": [
        "#JOINTPLOT -> 'RM' e 'PRICE' em um scatterplox\n",
        "with sns.axes_style('whitegrid'):\n",
        "  sns.jointplot(x=data.RM,\n",
        "                y=data.PRICE,\n",
        "                height=7,\n",
        "                color='darkblue',\n",
        "                joint_kws={'alpha':0.5})\n",
        "plt.show()"
      ],
      "metadata": {
        "id": "eWF_ZD_UOlsb"
      },
      "execution_count": null,
      "outputs": []
    },
    {
      "cell_type": "code",
      "source": [
        "#treinamento de modelo preditivo de PREÇO sobre FEATURES(rooms,distance etc)\n",
        "target = data['PRICE']\n",
        "features = data.drop('PRICE', axis=1) #restante da DATA\n",
        "\n",
        "X_train, X_test, y_train, y_test = Train_Test(features,target,test_size=0.2,random_state=10)\n",
        "\n",
        "# % of training set\n",
        "train_pct = 100*len(X_train)/len(features)\n",
        "print(f'Training data is {train_pct:.3}% of the total data.')\n",
        "\n",
        "# % of test data set\n",
        "test_pct = 100*X_test.shape[0]/features.shape[0]\n",
        "print(f'Test data makes up the remaining {test_pct:0.3}%.')"
      ],
      "metadata": {
        "id": "jfWionUXO4NR"
      },
      "execution_count": null,
      "outputs": []
    },
    {
      "cell_type": "code",
      "source": [
        "L_regr = LinearRegression()  #objeto de regressão linear\n",
        "L_regr.fit(X_train, y_train) #modelo alinhado aos dados de treino (features X_train e alvo y_train)\n",
        "\n",
        "#ajuste nos dados de treino R² (coeficiente de determinação)\n",
        "rsquared = L_regr.score(X_train, y_train)\n",
        "# fração da variância em y explicada pelo modelo\n",
        "print(f'Training data r-squared: {round(rsquared*100,2)}%')\n",
        "\n",
        "#extraindo coeficientes de regressão para cada variável\n",
        "regr_coef = pd.DataFrame(\n",
        "    data=L_regr.coef_,          #lista de coeficientes aprendidos\n",
        "    index=X_train.columns,      #nome das colunas correspondentes em X_train\n",
        "    columns=['Coefficient']     #nome da coluna resultado\n",
        ")\n",
        "# Agora regr_coef é um DataFrame com cada variável e seu peso no modelo\n",
        "\n",
        "#“price premium” por um quarto extra\n",
        "#'RM' = ROOMS\n",
        "coef_rm = regr_coef.loc['RM', 'Coefficient']\n",
        "premium = coef_rm * 1000\n",
        "print(f'The price premium for having an extra room is ${premium:.5}')\n",
        "#incremento de preço esperado ao adicionar um cômodo extra\n",
        "\n",
        "#previsões e resíduos (erros) no conjunto de treino\n",
        "predicted_values = L_regr.predict(X_train)  #array de valores ŷ estimados pelo modelo\n",
        "residuals = y_train - predicted_values #diferença entre valores reais e preditos (yᵢ − ŷᵢ)"
      ],
      "metadata": {
        "id": "2F3sU49ZQdJt"
      },
      "execution_count": null,
      "outputs": []
    },
    {
      "cell_type": "code",
      "source": [
        "#graph superior: Preços Reais vs Preços Preditos\n",
        "plt.figure(dpi=100)\n",
        "#plota os pontos reais vs preditos\n",
        "plt.scatter(\n",
        "    x=y_train,            #eixo X = valores reais (conjunto de treino)\n",
        "    y=predicted_values,   #eixo Y = valores preditos pelo modelo\n",
        "    c='indigo',           #cor dos pontos\n",
        "    alpha=0.6             #transparencia\n",
        ")\n",
        "#linha de referência y = x (concordância real = predito)\n",
        "plt.plot(\n",
        "    y_train,  #mesmo vetor em X e Y para formar uma reta\n",
        "    y_train,\n",
        "    color='green')\n",
        "#título e rotulos dos eixos\n",
        "plt.title(\n",
        "    'Actual vs Predicted Prices: $y_i$ vs $\\\\hat{y}_i$',\n",
        "    fontsize=17)\n",
        "plt.xlabel(\n",
        "    'Preços Reais (milhares) $y_i$',\n",
        "    fontsize=14)\n",
        "plt.ylabel(\n",
        "    'Preços Preditos (milhares) $\\\\hat{y}_i$',\n",
        "    fontsize=14)\n",
        "plt.show()\n",
        "\n",
        "#gragico inferior: Resíduos vs Valores Preditos\n",
        "\n",
        "plt.figure(dpi=100)\n",
        "#plota os resíduos em função dos valores preditos\n",
        "plt.scatter(\n",
        "    x=predicted_values,  #eixo X: valores preditos pelo modelo\n",
        "    y=residuals,         #eixo Y: resíduos (y_real - y_predito)\n",
        "    c='indigo',\n",
        "    alpha=0.6)\n",
        "#titulo e rótulos\n",
        "plt.title(\n",
        "    'Residuals vs Predicted Values',\n",
        "    fontsize=17)\n",
        "plt.xlabel(\n",
        "    'Preços Preditos $\\\\hat{y}_i$',\n",
        "    fontsize=14)\n",
        "plt.ylabel(\n",
        "    'Resíduos (erros/ruidos)',\n",
        "    fontsize=14)\n",
        "plt.show()"
      ],
      "metadata": {
        "id": "wDSydzkqRTgD"
      },
      "execution_count": null,
      "outputs": []
    },
    {
      "cell_type": "code",
      "source": [
        "#stats dos resíduos\n",
        "resid_mean = round(residuals.mean(), 2)     #media dos residuos rounded\n",
        "resid_skew = round(residuals.skew(), 2)     #assimetria dos resíduos rounded tbm\n",
        "\n",
        "#distribuição dos resíduos com KDE (estimativa de densidade)\n",
        "sns.displot(\n",
        "    residuals,     #serie de resíduos a ser plotada\n",
        "    kde=True,      #curva de KDE para visualizar a densidade\n",
        "    color='red'\n",
        ")\n",
        "\n",
        "plt.title(f'Residuals Skew ({resid_skew}) Mean ({resid_mean})')\n",
        "plt.show()"
      ],
      "metadata": {
        "id": "gaWeu63WS9oz"
      },
      "execution_count": null,
      "outputs": []
    },
    {
      "cell_type": "code",
      "source": [
        "#transformando valores para log em razao da regressao para comprimir os valores\n",
        "plt.figure(dpi=150)\n",
        "plt.scatter(data.PRICE, np.log(data.PRICE))\n",
        "\n",
        "plt.title('Original Price to a Log Price')\n",
        "plt.ylabel('Log Price')\n",
        "plt.xlabel('Actual $ Price in 000s')\n",
        "plt.show()"
      ],
      "metadata": {
        "id": "x9S6IQq_UuQe"
      },
      "execution_count": null,
      "outputs": []
    },
    {
      "cell_type": "code",
      "source": [
        "#Novo target para logarit prices\n",
        "new_target = np.log(data['PRICE']) # Using log prices\n",
        "features = data.drop('PRICE', axis=1)\n",
        "X_train, X_test, log_y_train, log_y_test = Train_Test(features,new_target,test_size=0.2,random_state=10)\n",
        "log_regr = LinearRegression()\n",
        "log_regr.fit(X_train, log_y_train)\n",
        "log_rsquared = log_regr.score(X_train, log_y_train)\n",
        "\n",
        "log_predictions = log_regr.predict(X_train)\n",
        "log_residuals = (log_y_train - log_predictions)\n",
        "\n",
        "print(f'Training data r-squared: {round(log_rsquared*100,2)}%')"
      ],
      "metadata": {
        "id": "y5XUE_lXVJcq"
      },
      "execution_count": null,
      "outputs": []
    },
    {
      "cell_type": "code",
      "source": [
        "df_coef = pd.DataFrame(data=log_regr.coef_, index=X_train.columns, columns=['coef'])\n",
        "\n",
        "# Graph of Actual vs. Predicted Log Prices\n",
        "plt.scatter(x=log_y_train, y=log_predictions, c='navy', alpha=0.6)\n",
        "plt.plot(log_y_train, log_y_train, color='cyan')\n",
        "plt.title(f'Actual vs Predicted Log Prices: $y _i$ vs $\\hat y_i$ (R-Squared {log_rsquared:.2})', fontsize=17)\n",
        "plt.xlabel('Actual Log Prices $y _i$', fontsize=14)\n",
        "plt.ylabel('Prediced Log Prices $\\hat y _i$', fontsize=14)\n",
        "plt.show()\n",
        "\n",
        "# Original Regression of Actual vs. Predicted Prices\n",
        "plt.scatter(x=y_train, y=predicted_values, c='indigo', alpha=0.6)\n",
        "plt.plot(y_train, y_train, color='cyan')\n",
        "plt.title(f'Original Actual vs Predicted Prices: $y _i$ vs $\\hat y_i$ (R-Squared {rsquared:.3})', fontsize=17)\n",
        "plt.xlabel('Actual prices 000s $y _i$', fontsize=14)\n",
        "plt.ylabel('Prediced prices 000s $\\hat y _i$', fontsize=14)\n",
        "plt.show()\n",
        "\n",
        "# Residuals vs Predicted values (Log prices)\n",
        "plt.scatter(x=log_predictions, y=log_residuals, c='navy', alpha=0.6)\n",
        "plt.title('Residuals vs Fitted Values for Log Prices', fontsize=17)\n",
        "plt.xlabel('Predicted Log Prices $\\hat y _i$', fontsize=14)\n",
        "plt.ylabel('Residuals', fontsize=14)\n",
        "plt.show()\n",
        "\n",
        "# Residuals vs Predicted values\n",
        "plt.scatter(x=predicted_values, y=residuals, c='indigo', alpha=0.6)\n",
        "plt.title('Original Residuals vs Fitted Values', fontsize=17)\n",
        "plt.xlabel('Predicted Prices $\\hat y _i$', fontsize=14)\n",
        "plt.ylabel('Residuals', fontsize=14)\n",
        "plt.show()"
      ],
      "metadata": {
        "id": "oL8nbL_vVl88"
      },
      "execution_count": null,
      "outputs": []
    },
    {
      "cell_type": "code",
      "source": [
        "#distribuicao de Residuals (log prices) - checking for normality\n",
        "print(f'Original Model Test Data r-squared: {round(L_regr.score(X_test, y_test)*100,2)}%')\n",
        "print(f'Log Model Test Data r-squared: {round(log_regr.score(X_test, log_y_test)*100,2)}%')\n",
        "\n",
        "log_resid_mean = round(log_residuals.mean(), 2)\n",
        "log_resid_skew = round(log_residuals.skew(), 2)\n",
        "#com log prices\n",
        "sns.displot(log_residuals, kde=True, color='navy')\n",
        "plt.title(f'Log price model: Residuals Skew ({log_resid_skew}) Mean ({log_resid_mean})')\n",
        "plt.show()\n",
        "#original\n",
        "sns.displot(residuals, kde=True, color='indigo')\n",
        "plt.title(f'Original model: Residuals Skew ({resid_skew}) Mean ({resid_mean})')\n",
        "plt.show()"
      ],
      "metadata": {
        "id": "ezFj8_CxWB6p"
      },
      "execution_count": null,
      "outputs": []
    },
    {
      "cell_type": "code",
      "source": [
        "#prediçao de valores a partir da construcao do modelo com LogPrices acima\n",
        "\n",
        "#starting point: Average Values in the Dataset\n",
        "features = data.drop(['PRICE'], axis=1)\n",
        "average_vals = features.mean().values\n",
        "property_stats = pd.DataFrame(data=average_vals.reshape(1, len(features.columns)),columns=features.columns)\n",
        "\n",
        "#prediction\n",
        "log_estimate = log_regr.predict(property_stats)[0]\n",
        "print(f'The log price estimate is ${log_estimate:.3}')\n",
        "\n",
        "#convertion of logprices\n",
        "dollar_est = np.exp(log_estimate) * 1000\n",
        "print(f'The property is estimated to be worth ${dollar_est:.6}')"
      ],
      "metadata": {
        "id": "-QTqCVj5W5g_"
      },
      "execution_count": null,
      "outputs": []
    },
    {
      "cell_type": "code",
      "source": [
        "# --- 1. Definição das características da propriedade para previsão customizada ---\n",
        "next_to_river = False       #proxima ao rio (CHAS)\n",
        "nr_rooms = 8                #comodos (RM)\n",
        "students_per_classroom = 20 #indice de alunos\n",
        "distance_to_town = 5        #Distancia ponderada até o centro da cidade (DIS)\n",
        "\n",
        "pollution = data.NOX.quantile(q=0.5)    #Mediana de NOX (poluição do ar)\n",
        "amount_of_poverty = data.LSTAT.quantile(q=0.25)  #(baixa pobreza)\n",
        "\n",
        "#DataFrame de features no formato que o modelo espera\n",
        "#property_stats foi inicializado vazio com as mesmas colunas de X_train\n",
        "property_stats['RM'] = nr_rooms\n",
        "property_stats['PTRATIO'] = students_per_classroom\n",
        "property_stats['DIS'] = distance_to_town\n",
        "property_stats['CHAS'] = 1 if next_to_river else 0\n",
        "property_stats['NOX'] = pollution\n",
        "property_stats['LSTAT'] = amount_of_poverty\n",
        "-\n",
        "#previsao do log(preço)\n",
        "log_estimate = log_regr.predict(property_stats)[0]\n",
        "print(f'The log price estimate is ${log_estimate:.3}')\n",
        "#converte log-preço dolares\n",
        "dollar_est = np.exp(log_estimate) * 1000\n",
        "print(f'The property is estimated to be worth ${dollar_est:.6}')"
      ],
      "metadata": {
        "id": "QCMBPeXgXVTi"
      },
      "execution_count": null,
      "outputs": []
    }
  ]
}