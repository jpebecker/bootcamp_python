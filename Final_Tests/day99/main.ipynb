{
  "nbformat": 4,
  "nbformat_minor": 0,
  "metadata": {
    "colab": {
      "provenance": [],
      "collapsed_sections": [
        "_8DYYwTtbszz",
        "juqT4Bo3eud4",
        "q99MTPXBfjFO",
        "82J6xZAMhXJs",
        "zib2BmuniAbt",
        "teWMoWFsikd8",
        "PMtLRF5zkE70",
        "d_89G6jsmAOx",
        "MyG3gT4DpSWA",
        "_UvOGvR1qSOy",
        "9IT1n_kosHgC",
        "1aMs0Yc6tSFR",
        "5fJKZyC6vMgm",
        "VWr6IA1ev9Ux",
        "EKvK9nFHxOAP",
        "YLI0bL9wyCwH",
        "_ZUnOVX50MNo",
        "4K63AbBE0jJH",
        "byF9sCcU0npW",
        "t5FOOHca52Jr",
        "wme00Ima6rm6",
        "lLerTzu57Py9",
        "rTc3jniw8Vx7",
        "-uxJtmkg8WzR"
      ]
    },
    "kernelspec": {
      "name": "python3",
      "display_name": "Python 3"
    },
    "language_info": {
      "name": "python"
    }
  },
  "cells": [
    {
      "cell_type": "markdown",
      "source": [
        "#Day 99\n",
        "\n",
        "This dataset was scraped from [nextspaceflight.com](https://nextspaceflight.com/launches/past/?page=1) and includes all the space missions since the beginning of Space Race between the USA and the Soviet Union in 1957!"
      ],
      "metadata": {
        "id": "_8DYYwTtbszz"
      }
    },
    {
      "cell_type": "code",
      "execution_count": null,
      "metadata": {
        "id": "ZBP2Q2tFblZN"
      },
      "outputs": [],
      "source": [
        "import numpy as np\n",
        "import pandas as pd\n",
        "import plotly.express as px\n",
        "import matplotlib.pyplot as plt\n",
        "import seaborn as sns\n",
        "from iso3166 import countries\n",
        "from datetime import datetime, timedelta\n",
        "\n",
        "pd.options.display.float_format = '{:,.2f}'.format\n",
        "df_data = pd.read_csv('mission_launches.csv')"
      ]
    },
    {
      "cell_type": "markdown",
      "source": [
        "## Preliminary Data Exploration\n",
        "\n",
        "* What is the shape of `df_data`?\n",
        "* How many rows and columns does it have?\n",
        "* What are the column names?\n",
        "* Are there any NaN values or duplicates?"
      ],
      "metadata": {
        "id": "juqT4Bo3eud4"
      }
    },
    {
      "cell_type": "code",
      "source": [
        "print(f'shape of the dataframe: {df_data.shape}')\n",
        "print(df_data.columns)\n",
        "print(f'Duplicados: {df_data.duplicated().sum()}')\n",
        "print(f'Null values: {df_data.isna().sum()}')\n",
        "print(df_data.sample())"
      ],
      "metadata": {
        "id": "R3Vy5ykJe1Ay"
      },
      "execution_count": null,
      "outputs": []
    },
    {
      "cell_type": "markdown",
      "source": [
        "## Data Cleaning - Check for Missing Values and Duplicates\n",
        "\n",
        "---\n",
        "\n",
        "\n",
        "\n",
        "Removing columns containing junk data."
      ],
      "metadata": {
        "id": "q99MTPXBfjFO"
      }
    },
    {
      "cell_type": "code",
      "source": [
        "useful_data = df_data.drop(columns=['Unnamed: 0.1', 'Unnamed: 0']) #remove unused columns\n",
        "print(useful_data.shape)\n",
        "contain_price_df = useful_data.dropna(subset=['Price']) #create a price dataframe\n",
        "print(contain_price_df.shape)"
      ],
      "metadata": {
        "id": "Zka0NVfjfi22"
      },
      "execution_count": null,
      "outputs": []
    },
    {
      "cell_type": "code",
      "source": [
        "useful_data.describe() #just to know the normal d"
      ],
      "metadata": {
        "id": "5Snt-ZocfHg4"
      },
      "execution_count": null,
      "outputs": []
    },
    {
      "cell_type": "markdown",
      "source": [
        "## Number of Launches per Company\n",
        "\n",
        "Chart that shows the number of space mission launches by organisation."
      ],
      "metadata": {
        "id": "82J6xZAMhXJs"
      }
    },
    {
      "cell_type": "code",
      "source": [
        "plt.figure(figsize=(12, 6))\n",
        "useful_data['Organisation'].value_counts().plot(kind='bar')\n",
        "\n",
        "plt.title('Number of Space Mission Launches by Organisation')\n",
        "plt.xlabel('Organisation')\n",
        "plt.ylabel('Number of Launches')\n",
        "plt.xticks(rotation=45, ha='right')\n",
        "plt.tight_layout()\n",
        "\n",
        "plt.show()\n"
      ],
      "metadata": {
        "id": "LYhXXumOhb8c"
      },
      "execution_count": null,
      "outputs": []
    },
    {
      "cell_type": "markdown",
      "source": [
        "## Number of Active versus Retired Rockets\n",
        "\n",
        "How many rockets are active compared to those that are decomissioned?"
      ],
      "metadata": {
        "id": "zib2BmuniAbt"
      }
    },
    {
      "cell_type": "code",
      "source": [
        "status_count = useful_data['Rocket_Status'].value_counts()\n",
        "#print(status_count)\n",
        "\n",
        "plt.figure(figsize=(6, 6))\n",
        "plt.pie(status_count, labels=status_count.index, autopct='%1.1f%%', startangle=90, colors=['#ff9999','#66b3ff'])\n",
        "plt.title('Rocket Status: Active vs Retired')\n",
        "plt.axis('equal')\n",
        "\n",
        "plt.show()"
      ],
      "metadata": {
        "id": "R9RbYqzGh_B-"
      },
      "execution_count": null,
      "outputs": []
    },
    {
      "cell_type": "markdown",
      "source": [
        "## Distribution of Mission Status\n",
        "\n",
        "How many missions were successful?\n",
        "How many missions failed?"
      ],
      "metadata": {
        "id": "teWMoWFsikd8"
      }
    },
    {
      "cell_type": "code",
      "source": [
        "missions_status = useful_data['Mission_Status'].value_counts()\n",
        "\n",
        "success_count = missions_status.get('Success', 0)\n",
        "fail_count = missions_status.sum() - success_count #all that were not sucessful\n",
        "\n",
        "labels = ['Successful', 'Failed']\n",
        "counts = [success_count, fail_count]\n",
        "\n",
        "plt.figure(figsize=(6, 4))\n",
        "plt.bar(labels, counts, color=['green', 'red'])\n",
        "\n",
        "plt.title('Mission Outcomes: Success vs Failure')\n",
        "plt.ylabel('Number of Missions')\n",
        "plt.tight_layout()\n",
        "plt.show()"
      ],
      "metadata": {
        "id": "ckUeMsZFjpcf"
      },
      "execution_count": null,
      "outputs": []
    },
    {
      "cell_type": "markdown",
      "source": [
        "## How Expensive are the Launches?\n",
        "\n",
        "histogram to visualise the distribution. The price column is given in USD millions."
      ],
      "metadata": {
        "id": "PMtLRF5zkE70"
      }
    },
    {
      "cell_type": "code",
      "source": [
        "contain_price_df['Price'] = pd.to_numeric(contain_price_df['Price'], errors='coerce')#transform str price into numbered price\n",
        "filtered_prices = [price for price in contain_price_df['Price'] if price <= 300] #select only under 300 million\n",
        "bins = np.arange(0, 325, 25)  # 0, 25, 50, ..., 300\n",
        "\n",
        "plt.figure(figsize=(10, 6))\n",
        "plt.hist(filtered_prices, bins=bins, color='skyblue', edgecolor='black')\n",
        "\n",
        "plt.title('Distribution of Launch Prices (≤ 300 Million USD)', fontsize=14)\n",
        "plt.xlabel('Launch Price (Million USD)', fontsize=12)\n",
        "plt.ylabel('Number of Launches', fontsize=12)\n",
        "plt.xticks(bins)\n",
        "plt.grid(axis='y', linestyle='--', alpha=0.6)\n",
        "\n",
        "for i in range(len(bins)-1):\n",
        "    count = ((filtered_prices >= bins[i]) & (filtered_prices < bins[i+1])).sum()\n",
        "    plt.text((bins[i]+bins[i+1])/2, count + 1, str(count), ha='center', fontsize=9)\n",
        "\n",
        "plt.tight_layout()\n",
        "plt.show()\n"
      ],
      "metadata": {
        "id": "pIk9ZM0pkEYI"
      },
      "execution_count": null,
      "outputs": []
    },
    {
      "cell_type": "code",
      "source": [],
      "metadata": {
        "id": "9CoS76nEkDst"
      },
      "execution_count": null,
      "outputs": []
    },
    {
      "cell_type": "markdown",
      "source": [
        "##Choropleth Map to Show the Number of Launches by Country\n",
        "\n",
        "Need to use a 3 letter country code for each country.\n",
        "\n",
        "* Russia is the Russian Federation\n",
        "* New Mexico should be USA\n",
        "* Yellow Sea refers to China\n",
        "* Shahrud Missile Test Site should be Iran\n",
        "* Pacific Missile Range Facility should be USA\n",
        "* Barents Sea should be Russian Federation\n",
        "* Gran Canaria should be USA\n"
      ],
      "metadata": {
        "id": "d_89G6jsmAOx"
      }
    },
    {
      "cell_type": "code",
      "source": [
        "import re\n",
        "\n",
        "#extrair nome do país da string de localização\n",
        "def extract_country_from_location(location):\n",
        "    # regex para pegar tudo depois da ultima virgula\n",
        "    match = re.search(r',\\s*([^,]+)$', location)\n",
        "    if match:\n",
        "        return match.group(1).strip()  #extrai e croppa o nome\n",
        "    return location  #se nao encontrar a virgula retorna tudo\n",
        "\n",
        "#corrigir nome de paises\n",
        "def correct_country_name(country):\n",
        "    country_mapping = {\n",
        "        'Russia': 'Russian Federation',\n",
        "        'New Mexico': 'USA',\n",
        "        'Yellow Sea': 'China',\n",
        "        'Shahrud Missile Test Site': 'Iran',\n",
        "        'Pacific Missile Range Facility': 'USA',\n",
        "        'Barents Sea': 'Russian Federation',\n",
        "        'Gran Canaria': 'USA',\n",
        "        'Iran': 'Iran',\n",
        "        'North Korea': 'North Korea',\n",
        "        'Pacific Ocean': 'USA',\n",
        "        'South Korea': 'South Korea'\n",
        "    }\n",
        "    return country_mapping.get(country, country)\n",
        "\n",
        "#converte nome do pais em ISO\n",
        "def get_country_alpha3(country_name):\n",
        "    try:\n",
        "        return countries.get(country_name).alpha3\n",
        "    except KeyError:\n",
        "        #print(f\"Não foi possível encontrar o código para o país: {country_name}\")\n",
        "        return None  # se nao recuperar o ISO nao recebe\n",
        "\n",
        "#extração e correcao de paises\n",
        "useful_data['Extracted_Country'] = useful_data['Location'].apply(extract_country_from_location)\n",
        "useful_data['Corrected_Country'] = useful_data['Extracted_Country'].apply(correct_country_name)\n",
        "useful_data['Country_Code'] = useful_data['Corrected_Country'].apply(get_country_alpha3)\n",
        "\n",
        "\n",
        "#nova coluna com os isos\n",
        "useful_data['Country_Code'] = useful_data['Corrected_Country'].apply(get_country_alpha3)\n",
        "\n",
        "#ver quais paises nao foram transformados\n",
        "missing_countries = useful_data[useful_data['Country_Code'].isnull()]\n",
        "#print(f\"Países com código não encontrado: \\n{missing_countries['Corrected_Country'].unique()}\")\n",
        "\n",
        "#lançamentos por ISO\n",
        "launches_by_country = useful_data['Country_Code'].value_counts().reset_index()\n",
        "launches_by_country.columns = ['Country_Code', 'Launch_Count']\n",
        "\n",
        "#printar\n",
        "print(launches_by_country.head())\n"
      ],
      "metadata": {
        "id": "WRRo0o2rmFmF"
      },
      "execution_count": null,
      "outputs": []
    },
    {
      "cell_type": "code",
      "source": [
        "useful_data.head()"
      ],
      "metadata": {
        "id": "CnYxz9G_mi5N"
      },
      "execution_count": null,
      "outputs": []
    },
    {
      "cell_type": "code",
      "source": [
        "fig = px.choropleth(launches_by_country,\n",
        "                    locations='Country_Code',\n",
        "                    color='Launch_Count',\n",
        "                    hover_name='Country_Code',\n",
        "                    color_continuous_scale='matter',\n",
        "                    labels={'Launch_Count': 'Number of Launches'},\n",
        "                    title='Number of Launches by Country')\n",
        "\n",
        "fig.update_geos(showcoastlines=True, coastlinecolor=\"Black\", showland=True, landcolor=\"white\")\n",
        "fig.update_layout(margin={\"r\":0,\"t\":40,\"l\":0,\"b\":0})  # Ajuste de margens\n",
        "fig.show()"
      ],
      "metadata": {
        "id": "vIotDqCRm2lY"
      },
      "execution_count": null,
      "outputs": []
    },
    {
      "cell_type": "markdown",
      "source": [
        "##Choropleth Map to Show the Number of Failures by Country"
      ],
      "metadata": {
        "id": "MyG3gT4DpSWA"
      }
    },
    {
      "cell_type": "code",
      "source": [
        "failures_only = useful_data[useful_data['Mission_Status'] != 'Success'] #everythint that isnt sucess\n",
        "\n",
        "failures_by_country = failures_only['Country_Code'].value_counts().reset_index()\n",
        "failures_by_country.columns = ['iso_alpha', 'failures']\n",
        "\n",
        "failures_by_country = failures_by_country.dropna(subset=['iso_alpha'])\n",
        "\n",
        "fig = px.choropleth(\n",
        "    failures_by_country,\n",
        "    locations='iso_alpha',\n",
        "    color='failures',\n",
        "    color_continuous_scale='Reds',\n",
        "    title='Falhas de Missão por País'\n",
        ")\n",
        "\n",
        "fig.update_layout(geo=dict(showframe=False, projection_type='equirectangular'))\n",
        "fig.show()"
      ],
      "metadata": {
        "id": "qSfGJ3t9pTr0"
      },
      "execution_count": null,
      "outputs": []
    },
    {
      "cell_type": "markdown",
      "source": [
        "##Plotly Sunburst Chart of the countries, organisations, and mission status."
      ],
      "metadata": {
        "id": "_UvOGvR1qSOy"
      }
    },
    {
      "cell_type": "code",
      "source": [
        "fig = px.sunburst(\n",
        "    useful_data,\n",
        "    path=['Corrected_Country', 'Organisation', 'Mission_Status'],\n",
        "    values=None,  #all ocurrences\n",
        "    color='Mission_Status',\n",
        "    title='Missões por País, Organização e Status'\n",
        ")\n",
        "\n",
        "fig.update_layout(margin=dict(t=40, l=0, r=0, b=0))\n",
        "fig.show()"
      ],
      "metadata": {
        "id": "4bU_qcwiqbXw"
      },
      "execution_count": null,
      "outputs": []
    },
    {
      "cell_type": "markdown",
      "source": [
        "## Total Amount of Money Spent by Organisation on Space Missions"
      ],
      "metadata": {
        "id": "9IT1n_kosHgC"
      }
    },
    {
      "cell_type": "code",
      "source": [
        "contain_price_df['Price'] = pd.to_numeric(contain_price_df['Price'], errors='coerce')\n",
        "\n",
        "total_spent_by_org = contain_price_df.groupby('Organisation')['Price'].sum().reset_index()\n",
        "\n",
        "total_spent_by_org = total_spent_by_org.sort_values(by='Price', ascending=False)\n",
        "\n",
        "\n",
        "fig = px.bar(\n",
        "    total_spent_by_org,\n",
        "    x='Organisation',\n",
        "    y='Price',\n",
        "    title='Total Gasto por Organização em Missões Espaciais',\n",
        "    labels={'Price': 'Gasto Total (em milhões de dólares)'},\n",
        "    text_auto='.2s'\n",
        ")\n",
        "\n",
        "fig.update_layout(\n",
        "    xaxis_tickangle=-45,\n",
        "    yaxis_tickformat = \"$,.2s\",\n",
        "    showlegend=False\n",
        ")\n",
        "\n",
        "fig.show()"
      ],
      "metadata": {
        "id": "P9jA1FYYsJQ0"
      },
      "execution_count": null,
      "outputs": []
    },
    {
      "cell_type": "markdown",
      "source": [
        "## Amount of Money Spent by Organisation per Launch"
      ],
      "metadata": {
        "id": "1aMs0Yc6tSFR"
      }
    },
    {
      "cell_type": "code",
      "source": [
        "contain_price_df['Price'] = pd.to_numeric(contain_price_df['Price'], errors='coerce')\n",
        "total_spent_by_org_launch = contain_price_df.groupby(['Organisation', 'Date'])['Price'].sum().reset_index()\n",
        "\n",
        "fig = px.bar(\n",
        "    total_spent_by_org_launch,\n",
        "    x='Organisation',\n",
        "    y='Price',\n",
        "    color='Organisation',\n",
        "    title='Distribuição de Gasto por Lançamento e Organização',\n",
        "    labels={'Price': 'Gasto Total (em milhões de dólares)', 'Organisation': 'Organização'},\n",
        "    text='Price'\n",
        ")\n",
        "\n",
        "fig.update_layout(\n",
        "    xaxis_tickangle=-45,\n",
        "    yaxis_tickformat=\"$,.2s\",\n",
        "    showlegend=False\n",
        ")\n",
        "fig.show()"
      ],
      "metadata": {
        "id": "iN565PrytXKn"
      },
      "execution_count": null,
      "outputs": []
    },
    {
      "cell_type": "markdown",
      "source": [
        "## Chart of the Number of Launches per Year"
      ],
      "metadata": {
        "id": "5fJKZyC6vMgm"
      }
    },
    {
      "cell_type": "code",
      "source": [
        "useful_data['Date'] = pd.to_datetime(useful_data['Date'], errors='coerce')\n",
        "useful_data['Year'] = useful_data['Date'].dt.year\n",
        "\n",
        "launches_per_year = useful_data.groupby('Year')['Organisation'].count().reset_index()\n",
        "\n",
        "launches_per_year.columns = ['Year', 'Number of Launches'] #rename\n",
        "\n",
        "fig = px.bar(\n",
        "    launches_per_year,\n",
        "    x='Year',\n",
        "    y='Number of Launches',\n",
        "    title='Número de Lançamentos por Ano',\n",
        "    labels={'Number of Launches': 'Número de Lançamentos', 'Year': 'Ano'},\n",
        "    text='Number of Launches'\n",
        ")\n",
        "\n",
        "fig.update_layout(\n",
        "    xaxis_tickangle=-45,\n",
        "    yaxis_tickformat=\",.0f\",\n",
        ")\n",
        "fig.show()"
      ],
      "metadata": {
        "id": "8armN0ONvMxs"
      },
      "execution_count": null,
      "outputs": []
    },
    {
      "cell_type": "markdown",
      "source": [
        "## Chart of the Number of Launches Month-on-Month until the Present\n",
        "\n",
        "Which month has seen the highest number of launches in all time?"
      ],
      "metadata": {
        "id": "VWr6IA1ev9Ux"
      }
    },
    {
      "cell_type": "code",
      "source": [
        "useful_data['Date'] = pd.to_datetime(useful_data['Date'], errors='coerce')\n",
        "useful_data = useful_data.dropna(subset=['Date'])\n",
        "\n",
        "useful_data['Year_Month'] = useful_data['Date'].dt.to_period('M').astype(str)\n",
        "launches_per_month = useful_data.groupby('Year_Month')['Organisation'].count().reset_index()\n",
        "\n",
        "launches_per_month.columns = ['Year_Month', 'Number of Launches']\n",
        "launches_per_month['Rolling Average'] = launches_per_month['Number of Launches'].rolling(window=12).mean() #smooth mean\n",
        "\n",
        "fig = px.line(\n",
        "    launches_per_month,\n",
        "    x='Year_Month',\n",
        "    y=['Number of Launches', 'Rolling Average'],\n",
        "    title='Número de Lançamentos Mês a Mês até o Presente com Média Móvel',\n",
        "    labels={'Number of Launches': 'Número de Lançamentos', 'Year_Month': 'Ano-Mês'},\n",
        "    markers=True\n",
        ")\n",
        "\n",
        "max_launch_month = launches_per_month.loc[launches_per_month['Number of Launches'].idxmax()] #destacar\n",
        "fig.add_annotation(\n",
        "    x=max_launch_month['Year_Month'],\n",
        "    y=max_launch_month['Number of Launches'],\n",
        "    text=f\"Maior Lançamento: {max_launch_month['Year_Month']} ({max_launch_month['Number of Launches']} lançamentos)\",\n",
        "    showarrow=True,\n",
        "    arrowhead=2,\n",
        "    ax=0,\n",
        "    ay=-40\n",
        ")\n",
        "fig.update_layout(\n",
        "    xaxis_tickangle=-45,\n",
        "    yaxis_tickformat=\",.0f\",  #whole number\n",
        ")\n",
        "fig.show()"
      ],
      "metadata": {
        "id": "2pubaF40v9y6"
      },
      "execution_count": null,
      "outputs": []
    },
    {
      "cell_type": "markdown",
      "source": [
        "##Which months are most popular and least popular for launches?\n",
        "Which time of year seems to be best for space missions?"
      ],
      "metadata": {
        "id": "EKvK9nFHxOAP"
      }
    },
    {
      "cell_type": "code",
      "source": [
        "launches_per_month = useful_data.groupby(useful_data['Date'].dt.to_period('M')).size().reset_index(name='Number of Launches')\n",
        "launches_per_month['Date'] = launches_per_month['Date'].dt.to_timestamp()\n",
        "launches_per_month['Month'] = launches_per_month['Date'].dt.month_name()\n",
        "\n",
        "launches_per_month_by_month = launches_per_month.groupby('Month')['Number of Launches'].sum().reset_index()\n",
        "\n",
        "launches_per_month_by_month['Month'] = pd.Categorical(launches_per_month_by_month['Month'],\n",
        "                                                      categories=[\"January\", \"February\", \"March\", \"April\", \"May\", \"June\",\n",
        "                                                                  \"July\", \"August\", \"September\", \"October\", \"November\", \"December\"],\n",
        "                                                      ordered=True)\n",
        "launches_per_month_by_month = launches_per_month_by_month.sort_values('Month')\n",
        "\n",
        "fig = px.bar(\n",
        "    launches_per_month_by_month,\n",
        "    x='Month',\n",
        "    y='Number of Launches',\n",
        "    title='Número de Lançamentos por Mês',\n",
        "    labels={'Number of Launches': 'Número de Lançamentos', 'Month': 'Mês'},\n",
        "    text_auto='.2s'\n",
        ")\n",
        "launches_per_month_by_month['Rolling Average'] = launches_per_month_by_month['Number of Launches'].rolling(window=3).mean()\n",
        "\n",
        "fig.add_scatter(\n",
        "    x=launches_per_month_by_month['Month'],\n",
        "    y=launches_per_month_by_month['Rolling Average'],\n",
        "    mode='lines+markers',\n",
        "    name='Média Móvel 3 meses',\n",
        "    line=dict(color='orange', dash='dot')\n",
        ")\n",
        "\n",
        "fig.show()\n",
        "\n",
        "most_popular_month = launches_per_month_by_month.loc[launches_per_month_by_month['Number of Launches'].idxmax()]\n",
        "least_popular_month = launches_per_month_by_month.loc[launches_per_month_by_month['Number of Launches'].idxmin()]\n",
        "print(f'Mês mais popular: {most_popular_month[\"Month\"]} com {most_popular_month[\"Number of Launches\"]} lançamentos')\n",
        "print(f'Mês menos popular: {least_popular_month[\"Month\"]} com {least_popular_month[\"Number of Launches\"]} lançamentos')"
      ],
      "metadata": {
        "id": "IV5UZN0CxQB2"
      },
      "execution_count": null,
      "outputs": []
    },
    {
      "cell_type": "markdown",
      "source": [
        "## How has the Launch Price varied Over Time?\n",
        "\n",
        "Line chart that shows the average anual price of rocket launches over time."
      ],
      "metadata": {
        "id": "YLI0bL9wyCwH"
      }
    },
    {
      "cell_type": "code",
      "source": [
        "contain_price_df['Date'] = pd.to_datetime(contain_price_df['Date'], errors='coerce')\n",
        "contain_price_df['Price'] = pd.to_numeric(contain_price_df['Price'], errors='coerce')\n",
        "\n",
        "contain_price_df.loc[:, 'Price'] = contain_price_df['Price'].fillna(contain_price_df['Price'].mean())#Preenche valores nulos na coluna 'Price' com a media\n",
        "\n",
        "contain_price_df['Year'] = contain_price_df['Date'].dt.year\n",
        "\n",
        "average_price_per_year = contain_price_df.groupby('Year')['Price'].mean().reset_index()\n",
        "\n",
        "fig = px.line(\n",
        "    average_price_per_year,\n",
        "    x='Year',\n",
        "    y='Price',\n",
        "    title='Variação do Preço Médio dos Lançamentos por Ano',\n",
        "    labels={'Price': 'Preço Médio Anual (em milhões de dólares)', 'Year': 'Ano'},\n",
        ")\n",
        "fig.show()"
      ],
      "metadata": {
        "id": "-Y6dkhj4yE2R"
      },
      "execution_count": null,
      "outputs": []
    },
    {
      "cell_type": "markdown",
      "source": [
        "## Chart of the Number of Launches over Time by the Top 10 Organisations.\n",
        "\n",
        "How has the dominance of launches changed over time between the different players?"
      ],
      "metadata": {
        "id": "_ZUnOVX50MNo"
      }
    },
    {
      "cell_type": "code",
      "source": [
        "useful_data['Date'] = pd.to_datetime(useful_data['Date'], errors='coerce')\n",
        "useful_data['Year'] = useful_data['Date'].dt.year\n",
        "\n",
        "launches_per_year = useful_data.groupby(['Organisation', 'Year']).size().reset_index(name='Number of Launches')\n",
        "\n",
        "# Obter as top 10 orgs com mais lançamentos\n",
        "top_10_organisations = launches_per_year.groupby('Organisation')['Number of Launches'].sum().nlargest(10).index\n",
        "filtered_data = launches_per_year[launches_per_year['Organisation'].isin(top_10_organisations)]\n",
        "\n",
        "fig = px.line(\n",
        "    filtered_data,\n",
        "    x='Year',\n",
        "    y='Number of Launches',\n",
        "    color='Organisation',\n",
        "    title='Número de Lançamentos ao Longo do Tempo pelas Top 10 Organizações',\n",
        "    labels={'Number of Launches': 'Número de Lançamentos', 'Year': 'Ano'},\n",
        "    markers=True\n",
        ")\n",
        "fig.update_layout(\n",
        "    xaxis_tickangle=-45,\n",
        "    showlegend=True\n",
        ")\n",
        "fig.show()"
      ],
      "metadata": {
        "id": "07X_J8as0MgA"
      },
      "execution_count": null,
      "outputs": []
    },
    {
      "cell_type": "markdown",
      "source": [
        "## Cold War Section\n",
        "\n",
        "The cold war lasted from the start of the dataset up until 1991."
      ],
      "metadata": {
        "id": "4K63AbBE0jJH"
      }
    },
    {
      "cell_type": "markdown",
      "source": [
        "###Pie Chart comparing the total number of launches of the USSR and the USA\n"
      ],
      "metadata": {
        "id": "byF9sCcU0npW"
      }
    },
    {
      "cell_type": "code",
      "source": [
        "useful_data['Date'] = pd.to_datetime(useful_data['Date'], errors='coerce')\n",
        "# Filtrar os dados para o período da Guerra Fria (1957 a 1991)\n",
        "cold_war_data = useful_data[(useful_data['Date'].dt.year >= 1957) & (useful_data['Date'].dt.year <= 1991)]\n",
        "\n",
        "# Substituir os nomes\n",
        "cold_war_data['Organisation'] = cold_war_data['Organisation'].replace({\n",
        "    'Soviet Union': 'USSR',\n",
        "    'Kazakhstan': 'USSR',\n",
        "    'RVSN USSR': 'USSR',\n",
        "    'Armed Forces of the USSR': 'USSR',\n",
        "    'USSR': 'USSR',\n",
        "    'OKB-586':'USSR',\n",
        "    'General Dynamics': 'USA',\n",
        "    'US Air Force': 'USA',\n",
        "    'NASA' : 'USA',\n",
        "    'Martin Marietta': 'USA',\n",
        "    'Arianespace' : 'EU',\n",
        "    'CASC' : 'CHN',\n",
        "    'MHI' : 'JPN',\n",
        "    'Boeing': 'USA',\n",
        "    'ISAS': 'JPN',\n",
        "    'US Navy': 'USA',\n",
        "    'ESA' : 'EU',\n",
        "    'ASI' : 'EU',\n",
        "    'CNES': 'EU',\n",
        "    'AMBA': 'USA',\n",
        "    'ISRO': 'IND',\n",
        "    'CECLES': 'EU',\n",
        "    \"Arm??e de l'Air\": 'EU',\n",
        "    'Northrop':'USA',\n",
        "    'Yuzhmash':'USSR',\n",
        "    'RAE':'EU',\n",
        "    'Douglas': 'USA',\n",
        "    'Lockheed': 'USA',\n",
        "    'Roscosmos': 'USSR',\n",
        "    'UT' : 'USA',\n",
        "})\n",
        "\n",
        "cold_war_data['Year'] = cold_war_data['Date'].dt.year\n",
        "\n",
        "#apenas URSS e USA\n",
        "filtered_cold_war = cold_war_data[cold_war_data['Organisation'].isin(['USSR', 'USA'])]\n",
        "\n",
        "total_launches_cold_war = filtered_cold_war['Organisation'].value_counts().reset_index()\n",
        "total_launches_cold_war.columns = ['Organisation', 'Total Launches']\n",
        "\n",
        "fig_pie = px.pie(\n",
        "    total_launches_cold_war,\n",
        "    names='Organisation',\n",
        "    values='Total Launches',\n",
        "    title='Participação Total de Lançamentos: URSS vs EUA (1957–1991)',\n",
        "    labels={'Total Launches': 'Número Total de Lançamentos'}\n",
        ")\n",
        "fig_pie.show()"
      ],
      "metadata": {
        "id": "QYPYEQWh00vt"
      },
      "execution_count": null,
      "outputs": []
    },
    {
      "cell_type": "markdown",
      "source": [
        "### Chart that Shows the Total Number of Launches Year-On-Year by the Two Superpowers"
      ],
      "metadata": {
        "id": "t5FOOHca52Jr"
      }
    },
    {
      "cell_type": "code",
      "source": [
        "useful_data['Date'] = pd.to_datetime(useful_data['Date'], errors='coerce')\n",
        "\n",
        "useful_data['Organisation'] = useful_data['Organisation'].replace({\n",
        "    'Soviet Union': 'USSR',\n",
        "    'Kazakhstan': 'USSR',\n",
        "    'RVSN USSR': 'USSR',\n",
        "    'Armed Forces of the USSR': 'USSR',\n",
        "    'OKB-586': 'USSR',\n",
        "    'Yuzhmash': 'USSR',\n",
        "    'Roscosmos': 'USSR',\n",
        "\n",
        "    'General Dynamics': 'USA',\n",
        "    'US Air Force': 'USA',\n",
        "    'NASA': 'USA',\n",
        "    'Martin Marietta': 'USA',\n",
        "    'Boeing': 'USA',\n",
        "    'US Navy': 'USA',\n",
        "    'AMBA': 'USA',\n",
        "    'Northrop': 'USA',\n",
        "    'Douglas': 'USA',\n",
        "    'Lockheed': 'USA',\n",
        "    'UT': 'USA'\n",
        "})\n",
        "\n",
        "superpowers = useful_data[useful_data['Organisation'].isin(['USSR', 'USA'])]\n",
        "\n",
        "#period of time\n",
        "cold_war_superpowers = superpowers[\n",
        "    (superpowers['Date'].dt.year >= 1957) &\n",
        "    (superpowers['Date'].dt.year <= 1991)\n",
        "]\n",
        "\n",
        "cold_war_superpowers['Year'] = cold_war_superpowers['Date'].dt.year\n",
        "launches_per_year = cold_war_superpowers.groupby(['Year', 'Organisation']).size().reset_index(name='Launch Count')\n",
        "\n",
        "fig = px.line(\n",
        "    launches_per_year,\n",
        "    x='Year',\n",
        "    y='Launch Count',\n",
        "    color='Organisation',\n",
        "    markers=True,\n",
        "    title='Lançamentos Anuais: URSS vs EUA (1957–1991)',\n",
        "    labels={'Launch Count': 'Número de Lançamentos', 'Year': 'Ano'}\n",
        ")\n",
        "fig.show()"
      ],
      "metadata": {
        "id": "VPCG_G6B5-FG"
      },
      "execution_count": null,
      "outputs": []
    },
    {
      "cell_type": "markdown",
      "source": [
        "### Chart of the Total Number of Mission Failures Year on Year."
      ],
      "metadata": {
        "id": "wme00Ima6rm6"
      }
    },
    {
      "cell_type": "code",
      "source": [
        "useful_data['Date'] = pd.to_datetime(useful_data['Date'], errors='coerce')\n",
        "useful_data['Organisation'] = useful_data['Organisation'].replace({\n",
        "    'Soviet Union': 'USSR',\n",
        "    'Kazakhstan': 'USSR',\n",
        "    'RVSN USSR': 'USSR',\n",
        "    'Armed Forces of the USSR': 'USSR',\n",
        "    'OKB-586': 'USSR',\n",
        "    'Yuzhmash': 'USSR',\n",
        "    'Roscosmos': 'USSR',\n",
        "\n",
        "    'General Dynamics': 'USA',\n",
        "    'US Air Force': 'USA',\n",
        "    'NASA': 'USA',\n",
        "    'Martin Marietta': 'USA',\n",
        "    'Boeing': 'USA',\n",
        "    'US Navy': 'USA',\n",
        "    'AMBA': 'USA',\n",
        "    'Northrop': 'USA',\n",
        "    'Douglas': 'USA',\n",
        "    'Lockheed': 'USA',\n",
        "    'UT': 'USA'\n",
        "})\n",
        "superpowers = useful_data[useful_data['Organisation'].isin(['USSR', 'USA'])]\n",
        "\n",
        "cold_war_superpowers = superpowers[\n",
        "    (superpowers['Date'].dt.year >= 1957) &\n",
        "    (superpowers['Date'].dt.year <= 1991)\n",
        "]\n",
        "\n",
        "cold_war_superpowers['Year'] = cold_war_superpowers['Date'].dt.year\n",
        "\n",
        "failures = cold_war_superpowers[cold_war_superpowers['Mission_Status'] != 'Success']\n",
        "\n",
        "failures_per_year = failures.groupby(['Year', 'Organisation']).size().reset_index(name='Failures')\n",
        "\n",
        "fig = px.line(\n",
        "    failures_per_year,\n",
        "    x='Year',\n",
        "    y='Failures',\n",
        "    color='Organisation',\n",
        "    markers=True,\n",
        "    title='Falhas em Missões: URSS vs EUA (1957–1991)',\n",
        "    labels={'Failures': 'Falhas', 'Year': 'Ano'}\n",
        ")\n",
        "fig.show()"
      ],
      "metadata": {
        "id": "oD50Xiz16wDs"
      },
      "execution_count": null,
      "outputs": []
    },
    {
      "cell_type": "markdown",
      "source": [
        "### Chart of the Percentage of Failures over Time\n",
        "\n",
        "Did failures go up or down over time? Did the countries get better at minimising risk and improving their chances of success over time?"
      ],
      "metadata": {
        "id": "lLerTzu57Py9"
      }
    },
    {
      "cell_type": "code",
      "source": [
        "total_launches = cold_war_superpowers.groupby(['Year', 'Organisation']).size().reset_index(name='Total')\n",
        "\n",
        "failures = cold_war_superpowers[cold_war_superpowers['Mission_Status'] != 'Success']\n",
        "failures_per_year = failures.groupby(['Year', 'Organisation']).size().reset_index(name='Failures')\n",
        "\n",
        "merged = pd.merge(total_launches, failures_per_year, on=['Year', 'Organisation'], how='left')\n",
        "merged['Failures'] = merged['Failures'].fillna(0)\n",
        "merged['Failure_Rate (%)'] = (merged['Failures'] / merged['Total']) * 100\n",
        "\n",
        "fig = px.line(\n",
        "    merged,\n",
        "    x='Year',\n",
        "    y='Failure_Rate (%)',\n",
        "    color='Organisation',\n",
        "    markers=True,\n",
        "    title='Percentual de Falhas por Ano: URSS vs EUA (1957–1991)',\n",
        "    labels={'Failure_Rate (%)': 'Taxa de Falha (%)', 'Year': 'Ano'}\n",
        ")\n",
        "fig.show()"
      ],
      "metadata": {
        "id": "0sCMt0Rz6wBV"
      },
      "execution_count": null,
      "outputs": []
    },
    {
      "cell_type": "markdown",
      "source": [
        "### For Every Year Show which Country was in the Lead in terms of Total Number of Launches up to and including 2020\n",
        "\n",
        "Do the results change if we only look at the number of successful launches?"
      ],
      "metadata": {
        "id": "rTc3jniw8Vx7"
      }
    },
    {
      "cell_type": "code",
      "source": [
        "successes = superpowers[superpowers['Mission_Status'] == 'Success']\n",
        "\n",
        "success_launches = successes.groupby(['Year', 'Organisation']).size().reset_index(name='Successful Launches')\n",
        "\n",
        "leaders_success = success_launches.sort_values(['Year', 'Successful Launches'], ascending=[True, False]).drop_duplicates('Year')\n",
        "\n",
        "success_launches = successes.groupby(['Year', 'Organisation']).size().reset_index(name='Successful Launches')\n",
        "\n",
        "fig_success = px.line(\n",
        "    success_launches,\n",
        "    x='Year',\n",
        "    y='Successful Launches',\n",
        "    color='Organisation',\n",
        "    markers=True,\n",
        "    title='Lançamentos Bem-Sucedidos por Ano — URSS vs EUA',\n",
        "    labels={'Successful Launches': 'Lançamentos com Sucesso', 'Year': 'Ano'}\n",
        ")\n",
        "fig_success.show()"
      ],
      "metadata": {
        "id": "hXLrQoqW6qOu"
      },
      "execution_count": null,
      "outputs": []
    },
    {
      "cell_type": "markdown",
      "source": [
        "###Year-on-Year Chart Showing the Organisation Doing the Most Number of Launches\n",
        "\n",
        "Which organisation was dominant in the 1970s and 1980s? Which organisation was dominant in 2018, 2019 and 2020?"
      ],
      "metadata": {
        "id": "-uxJtmkg8WzR"
      }
    },
    {
      "cell_type": "code",
      "source": [
        "launches_per_year = superpowers.groupby(['Year', 'Organisation']).size().reset_index(name='Launches')\n",
        "\n",
        "fig = px.line(\n",
        "    launches_per_year,\n",
        "    x='Year',\n",
        "    y='Launches',\n",
        "    color='Organisation',\n",
        "    markers=True,\n",
        "    title='Lançamentos por Ano por Organização',\n",
        "    labels={'Launches': 'Número de Lançamentos', 'Year': 'Ano'}\n",
        ")\n",
        "fig.show()"
      ],
      "metadata": {
        "id": "wQtVmvpE94ig"
      },
      "execution_count": null,
      "outputs": []
    }
  ]
}