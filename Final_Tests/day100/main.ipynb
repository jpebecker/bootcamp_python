{
  "nbformat": 4,
  "nbformat_minor": 0,
  "metadata": {
    "kernelspec": {
      "display_name": "Python 3",
      "language": "python",
      "name": "python3"
    },
    "language_info": {
      "codemirror_mode": {
        "name": "ipython",
        "version": 3
      },
      "file_extension": ".py",
      "mimetype": "text/x-python",
      "name": "python",
      "nbconvert_exporter": "python",
      "pygments_lexer": "ipython3",
      "version": "3.7.9"
    },
    "colab": {
      "provenance": [],
      "collapsed_sections": [
        "0KrR-Qd_wXf-",
        "6RuA5SvUyEaB",
        "n3DrcXVQuRoZ",
        "GhUibVz5z4sn",
        "ENGTEmPQ0Rvt",
        "Zavx_8PL1Jy9",
        "PXNFQmHl10Fx",
        "QJTbZZKg0p6i",
        "K7xvQXkjuRo7",
        "kr-8Rezn3Bep",
        "ZxbBdvM0uRpQ",
        "h1pAgkyb3Xb0",
        "IgD2a5-L4W_I",
        "5XrAD_ey9qBB",
        "JkcHvMUt43uE",
        "SJaNm4rC5nWm",
        "R0WSPeKD5Cir",
        "AqcOW6ca8JMD",
        "1HUJksrI5WFb",
        "37UsmVYF6hA2"
      ]
    }
  },
  "cells": [
    {
      "cell_type": "markdown",
      "metadata": {
        "id": "0KrR-Qd_wXf-"
      },
      "source": [
        "# Introduction"
      ]
    },
    {
      "cell_type": "markdown",
      "metadata": {
        "id": "I6e2m4XsuRoL"
      },
      "source": [
        "Since Jan. 1, 2015, [The Washington Post](https://www.washingtonpost.com/) has been compiling a database of every fatal shooting in the US by a police officer in the line of duty.\n",
        "[Source of census data](https://factfinder.census.gov/faces/nav/jsf/pages/community_facts.xhtml)."
      ]
    },
    {
      "cell_type": "code",
      "metadata": {
        "id": "TPhEXC2FxGSr"
      },
      "source": [
        "import numpy as np\n",
        "import pandas as pd\n",
        "import plotly.express as px\n",
        "import matplotlib.pyplot as plt\n",
        "import seaborn as sns\n",
        "from collections import Counter\n",
        "\n",
        "pd.options.display.float_format = '{:,.2f}'.format\n",
        "\n",
        "house_income_data = pd.read_csv('data/Median_Household_Income_2015.csv', encoding=\"windows-1252\")\n",
        "pct_poverty_data = pd.read_csv('data/Pct_People_Below_Poverty_Level.csv', encoding=\"windows-1252\")\n",
        "pct_completed_Hschool_data = pd.read_csv('data/Pct_Over_25_Completed_High_School.csv', encoding=\"windows-1252\")\n",
        "race_by_city_data = pd.read_csv('data/Share_of_Race_By_City.csv', encoding=\"windows-1252\")\n",
        "fatalities_data = pd.read_csv('data/Deaths_by_Police_US.csv', encoding=\"windows-1252\")"
      ],
      "execution_count": null,
      "outputs": []
    },
    {
      "cell_type": "markdown",
      "metadata": {
        "id": "6RuA5SvUyEaB"
      },
      "source": [
        "## Preliminary Data Exploration\n",
        "\n",
        "* What is the shape of the DataFrames?\n",
        "* How many rows and columns do they have?\n",
        "* What are the column names?\n",
        "* Are there any NaN values or duplicates?"
      ]
    },
    {
      "cell_type": "code",
      "metadata": {
        "id": "3U9RcS1WyrRJ"
      },
      "source": [
        "#print(f'Mediand Household Income: {house_income_data.shape}')\n",
        "print(f'Columns Names {house_income_data.columns}\\n')\n",
        "#print(f'Nan values: {house_income_data.isna().sum()}')\n",
        "#print(f'Duplicated values: {house_income_data.duplicated().sum()}\\n')\n",
        "\n",
        "#print(f'Poverty Percentage: {pct_poverty_data.shape}')\n",
        "print(f'Columns Names {pct_poverty_data.columns}\\n')\n",
        "#print(f'Nan values: {pct_poverty_data.isna().sum()}')\n",
        "#print(f'Duplicated values: {pct_poverty_data.duplicated().sum()}\\n')\n",
        "\n",
        "#print(f'Completed Highschool Percentage: {pct_completed_Hschool_data.shape}')\n",
        "print(f'Columns Names {pct_completed_Hschool_data.columns}\\n')\n",
        "#print(f'Nan values: {pct_completed_Hschool_data.isna().sum()}')\n",
        "#print(f'Duplicated values: {pct_completed_Hschool_data.duplicated().sum()}\\n')\n",
        "\n",
        "#print(f'Race by City: {race_by_city_data.shape}')\n",
        "print(f'Columns Names {race_by_city_data.columns}\\n')\n",
        "#print(f'Nan values: {race_by_city_data.isna().sum()}')\n",
        "#print(f'Duplicated values: {race_by_city_data.duplicated().sum()}\\n')\n",
        "\n",
        "#print(f'Deaths by Police: {fatalities_data.shape}')\n",
        "print(f'Columns Names {fatalities_data.columns}\\n')\n",
        "#print(f'Nan values: {fatalities_data.isna().sum()}')\n",
        "#print(f'Duplicated values: {fatalities_data.duplicated().sum()}\\n')\n",
        "fatalities_data.head()"
      ],
      "execution_count": null,
      "outputs": []
    },
    {
      "cell_type": "code",
      "metadata": {
        "id": "DmIARadGyrgs"
      },
      "source": [
        "house_income_data = house_income_data.dropna()\n",
        "\n",
        "fatalities_data = fatalities_data.dropna(subset=['race'])\n",
        "fatalities_data['age'] = fatalities_data['age'].fillna(fatalities_data['age'].median())\n",
        "fatalities_data['flee'] = fatalities_data['flee'].fillna('Not fleeing')\n",
        "fatalities_data['armed'] = fatalities_data['armed'].fillna('unarmed')\n",
        "\n",
        "\n",
        "print(f'Nan values: {fatalities_data.isna().sum()}')\n",
        "print(f'Duplicated values: {fatalities_data.duplicated().sum()}\\n')"
      ],
      "execution_count": null,
      "outputs": []
    },
    {
      "cell_type": "markdown",
      "metadata": {
        "_uuid": "52b308c936f5835c5cd186497fe3f96e96372483",
        "id": "n3DrcXVQuRoZ"
      },
      "source": [
        "## Chart of the Poverty Rate in each US State\n",
        "\n",
        "Bar chart that ranks the poverty rate from highest to lowest by US state. Which state has the highest poverty rate? Which state has the lowest poverty rate?  Bar Plot"
      ]
    },
    {
      "cell_type": "code",
      "metadata": {
        "id": "OSgTJoX7yrcS"
      },
      "source": [
        "# Convert'poverty_rate' to number\n",
        "pct_poverty_data['poverty_rate'] = pd.to_numeric(pct_poverty_data['poverty_rate'], errors='coerce')\n",
        "# group by state\n",
        "poverty_by_state = pct_poverty_data.groupby('Geographic Area')['poverty_rate'].mean().sort_values(ascending=False)\n",
        "\n",
        "plt.figure(figsize=(12, 8))\n",
        "poverty_by_state.plot(kind='bar', color='tomato', edgecolor='black')\n",
        "\n",
        "plt.title('Poverty Rate by US State (Highest to Lowest)', fontsize=14)\n",
        "plt.ylabel('Poverty Rate (%)')\n",
        "plt.xlabel('US State')\n",
        "plt.xticks(rotation=90)\n",
        "plt.tight_layout()\n",
        "plt.grid(axis='y', linestyle='--', alpha=0.7)\n",
        "plt.show()\n",
        "\n",
        "# get the max and min\n",
        "highest_poverty_state = poverty_by_state.idxmax()\n",
        "lowest_poverty_state = poverty_by_state.idxmin()\n",
        "\n",
        "print(f\"Estado com MAIOR taxa de pobreza: {highest_poverty_state} ({poverty_by_state.max():.2f}%)\")\n",
        "print(f\"Estado com MENOR taxa de pobreza: {lowest_poverty_state} ({poverty_by_state.min():.2f}%)\")"
      ],
      "execution_count": null,
      "outputs": []
    },
    {
      "cell_type": "markdown",
      "metadata": {
        "id": "GhUibVz5z4sn"
      },
      "source": [
        "## Chart of the High School Graduation Rate by US State\n",
        "\n",
        "This show the High School Graduation Rate in ascending order of US States. Which state has the lowest high school graduation rate? Which state has the highest?"
      ]
    },
    {
      "cell_type": "code",
      "metadata": {
        "id": "laD6W9eG0JFR"
      },
      "source": [
        "# Convert to numeric\n",
        "pct_completed_Hschool_data['percent_completed_hs'] = pd.to_numeric(\n",
        "    pct_completed_Hschool_data['percent_completed_hs'], errors='coerce'\n",
        ")\n",
        "\n",
        "#group by state and get mean\n",
        "hs_completion_by_state = pct_completed_Hschool_data.groupby('Geographic Area')['percent_completed_hs'] \\\n",
        "                                                   .mean() \\\n",
        "                                                   .sort_values(ascending=True)  #ascending\n",
        "\n",
        "plt.figure(figsize=(12, 8))\n",
        "hs_completion_by_state.plot(kind='bar', color='steelblue', edgecolor='black')\n",
        "\n",
        "plt.title('High School Graduation Rate by US State (Ascending Order)', fontsize=14)\n",
        "plt.ylabel('Graduation Rate (%)')\n",
        "plt.xlabel('US State')\n",
        "plt.xticks(rotation=90)\n",
        "plt.tight_layout()\n",
        "plt.grid(axis='y', linestyle='--', alpha=0.7)\n",
        "plt.show()\n",
        "\n",
        "print(f\"Menor taxa de conclusão do ensino médio: {hs_completion_by_state.idxmin()} ({hs_completion_by_state.min():.2f}%)\")\n",
        "print(f\"Maior taxa de conclusão do ensino médio: {hs_completion_by_state.idxmax()} ({hs_completion_by_state.max():.2f}%)\")"
      ],
      "execution_count": null,
      "outputs": []
    },
    {
      "cell_type": "markdown",
      "metadata": {
        "id": "ENGTEmPQ0Rvt"
      },
      "source": [
        "## Visualise the Relationship between Poverty Rates and High School Graduation Rates\n",
        "\n",
        "#### A line chart with two y-axes to show if the rations of poverty and high school graduation move together.  "
      ]
    },
    {
      "cell_type": "code",
      "metadata": {
        "id": "MkNk5U8v0JPB"
      },
      "source": [
        "# Convert to numeric values\n",
        "pct_poverty_data['poverty_rate'] = pd.to_numeric(pct_poverty_data['poverty_rate'], errors='coerce')\n",
        "pct_completed_Hschool_data['percent_completed_hs'] = pd.to_numeric(\n",
        "    pct_completed_Hschool_data['percent_completed_hs'], errors='coerce')\n",
        "\n",
        "#group by state\n",
        "poverty_by_state = pct_poverty_data.groupby('Geographic Area')['poverty_rate'].mean()\n",
        "hs_completion_by_state = pct_completed_Hschool_data.groupby('Geographic Area')['percent_completed_hs'].mean()\n",
        "\n",
        "# concatenate data\n",
        "combined_data = pd.concat([poverty_by_state, hs_completion_by_state], axis=1).dropna()\n",
        "combined_data = combined_data.sort_index()  # order by state\n",
        "\n",
        "fig, ax1 = plt.subplots(figsize=(14, 8))\n",
        "\n",
        "color1 = 'tomato'\n",
        "ax1.set_xlabel('US State')\n",
        "ax1.set_ylabel('Poverty Rate (%)', color=color1)\n",
        "ax1.plot(combined_data.index, combined_data['poverty_rate'], color=color1, label='Poverty Rate')\n",
        "ax1.tick_params(axis='y', labelcolor=color1)\n",
        "ax1.set_xticklabels(combined_data.index, rotation=90)\n",
        "\n",
        "ax2 = ax1.twinx()\n",
        "color2 = 'steelblue'\n",
        "ax2.set_ylabel('High School Graduation Rate (%)', color=color2)\n",
        "ax2.plot(combined_data.index, combined_data['percent_completed_hs'], color=color2, label='Graduation Rate')\n",
        "ax2.tick_params(axis='y', labelcolor=color2)\n",
        "\n",
        "plt.title('Poverty Rate vs High School Graduation Rate by US State')\n",
        "fig.tight_layout()\n",
        "plt.grid(axis='x', linestyle='--', alpha=0.5)\n",
        "plt.show()"
      ],
      "execution_count": null,
      "outputs": []
    },
    {
      "cell_type": "markdown",
      "metadata": {
        "id": "Zavx_8PL1Jy9"
      },
      "source": [
        "### Using a Seaborn .jointplot() with a Kernel Density Estimate (KDE) to visualise the same relationship"
      ]
    },
    {
      "cell_type": "code",
      "metadata": {
        "id": "u77CHfdX0pjW"
      },
      "source": [
        "#convert columns\n",
        "pct_poverty_data['poverty_rate'] = pd.to_numeric(pct_poverty_data['poverty_rate'], errors='coerce')\n",
        "pct_completed_Hschool_data['percent_completed_hs'] = pd.to_numeric(pct_completed_Hschool_data['percent_completed_hs'], errors='coerce')\n",
        "\n",
        "#group by state\n",
        "poverty_by_state = pct_poverty_data.groupby('Geographic Area')['poverty_rate'].mean()\n",
        "hs_completion_by_state = pct_completed_Hschool_data.groupby('Geographic Area')['percent_completed_hs'].mean()\n",
        "\n",
        "#concatenate the data formatted\n",
        "combined_data = pd.concat([poverty_by_state, hs_completion_by_state], axis=1).dropna()\n",
        "combined_data.columns = ['poverty_rate', 'percent_completed_hs']\n",
        "\n",
        "# jointplot with KDE and scatter\n",
        "sns.set(style='white', color_codes=True)\n",
        "plot = sns.jointplot(\n",
        "    data=combined_data,\n",
        "    x='percent_completed_hs',\n",
        "    y='poverty_rate',\n",
        "    kind='kde',  #kernel density\n",
        "    fill=True,\n",
        "    cmap='Reds',\n",
        "    height=8\n",
        ")\n",
        "plot.plot_joint(sns.scatterplot, color='black', s=40)  # KDE points\n",
        "plot.ax_joint.set_xlabel('High School Graduation Rate (%)')\n",
        "plot.ax_joint.set_ylabel('Poverty Rate (%)')\n",
        "plot.fig.suptitle('Poverty vs High School Graduation Rate (KDE & Scatter)', y=1.03)\n",
        "plt.show()"
      ],
      "execution_count": null,
      "outputs": []
    },
    {
      "cell_type": "markdown",
      "metadata": {
        "id": "PXNFQmHl10Fx"
      },
      "source": [
        "### Seaborn's `.lmplot()` or `.regplot()` to show a linear regression between the poverty ratio and the high school graduation ratio."
      ]
    },
    {
      "cell_type": "code",
      "metadata": {
        "id": "F1xrjFgT1znI"
      },
      "source": [
        "#regression chart\n",
        "plt.figure(figsize=(10, 6))\n",
        "sns.regplot(\n",
        "    data=combined_data,\n",
        "    x='percent_completed_hs',\n",
        "    y='poverty_rate',\n",
        "    scatter_kws={'color': 'black', 's': 50},\n",
        "    line_kws={'color': 'purple'},\n",
        ")\n",
        "plt.title('Linear Regression: Poverty Rate vs High School Graduation Rate')\n",
        "plt.xlabel('High School Graduation Rate (%)')\n",
        "plt.ylabel('Poverty Rate (%)')\n",
        "plt.grid(True, linestyle='--', alpha=0.5)\n",
        "plt.tight_layout()\n",
        "plt.show()"
      ],
      "execution_count": null,
      "outputs": []
    },
    {
      "cell_type": "markdown",
      "metadata": {
        "id": "QJTbZZKg0p6i"
      },
      "source": [
        "## A Bar Chart with Subsections Showing the Racial Makeup of Each US State\n",
        "\n",
        "Visualise the share of the white, black, hispanic, asian and native american population in each US State using a bar chart with sub sections."
      ]
    },
    {
      "cell_type": "code",
      "metadata": {
        "id": "LqrimlLo09Na"
      },
      "source": [
        "#convert to numeric\n",
        "race_columns = ['share_white', 'share_black', 'share_native_american', 'share_asian', 'share_hispanic']\n",
        "race_by_city_data[race_columns] = race_by_city_data[race_columns].apply(pd.to_numeric, errors='coerce')\n",
        "\n",
        "# group by state and get mean values\n",
        "race_by_state = race_by_city_data.groupby('Geographic area')[race_columns].mean().dropna()\n",
        "\n",
        "#ordering by share_white\n",
        "race_by_state = race_by_state.sort_values('share_white', ascending=False)\n",
        "\n",
        "# plot bar chart\n",
        "fig, ax = plt.subplots(figsize=(14, 8))\n",
        "\n",
        "bottom = pd.Series([0]*len(race_by_state), index=race_by_state.index)\n",
        "\n",
        "for column in race_columns:\n",
        "    ax.bar(\n",
        "        race_by_state.index,\n",
        "        race_by_state[column],\n",
        "        bottom=bottom,\n",
        "        label=column.replace('share_', '').capitalize()\n",
        "    )\n",
        "    bottom += race_by_state[column]\n",
        "\n",
        "ax.set_title('Racial Makeup by US State')\n",
        "ax.set_ylabel('Population Share (%)')\n",
        "ax.set_xlabel('State')\n",
        "ax.set_xticks(range(len(race_by_state.index)))\n",
        "ax.set_xticklabels(race_by_state.index, rotation=90)\n",
        "ax.legend(title='Race')\n",
        "plt.tight_layout()\n",
        "plt.show()"
      ],
      "execution_count": null,
      "outputs": []
    },
    {
      "cell_type": "markdown",
      "metadata": {
        "_uuid": "77493cfd86a031612be8fb8d60f27713e74e6d80",
        "id": "K7xvQXkjuRo7"
      },
      "source": [
        "## Donut Chart of People Killed by Race\n"
      ]
    },
    {
      "cell_type": "code",
      "metadata": {
        "id": "1nOafPdy1u9Z"
      },
      "source": [
        "# race ocurrences\n",
        "race_counts = fatalities_data['race'].value_counts()\n",
        "\n",
        "fig, ax = plt.subplots(figsize=(8, 8))\n",
        "wedges, texts, autotexts = ax.pie(\n",
        "    race_counts,\n",
        "    labels=race_counts.index,\n",
        "    autopct='%1.1f%%',\n",
        "    startangle=180,\n",
        "    wedgeprops={'width': 0.3},\n",
        "    pctdistance=0.5 #position ofpercentage texts\n",
        ")\n",
        "for autotext in autotexts:\n",
        "    autotext.set(fontsize=10, color='black', ha='center')\n",
        "\n",
        "ax.set_title('Deaths by Police - Distribution by Race')\n",
        "ax.legend(wedges, race_counts.index, title=\"Race\", loc=\"center left\", fontsize=12)\n",
        "\n",
        "plt.show()"
      ],
      "execution_count": null,
      "outputs": []
    },
    {
      "cell_type": "markdown",
      "metadata": {
        "id": "kr-8Rezn3Bep"
      },
      "source": [
        "## Chart Comparing the Total Number of Deaths of Men and Women\n",
        "\n",
        "illustrate how many more men are killed compared to women."
      ]
    },
    {
      "cell_type": "code",
      "metadata": {
        "id": "joH1L4303BsJ"
      },
      "source": [
        "#counting\n",
        "gender_counts = fatalities_data['gender'].value_counts()\n",
        "\n",
        "\n",
        "fig, ax = plt.subplots(figsize=(8, 6))\n",
        "ax.bar(gender_counts.index, gender_counts, color=['blue', 'pink'])\n",
        "ax.set_title('Total Number of Deaths by Gender')\n",
        "ax.set_xlabel('Gender')\n",
        "ax.set_ylabel('Number of Deaths')\n",
        "ax.set_ylim(0, gender_counts.max() + 500)\n",
        "plt.tight_layout()\n",
        "plt.show()"
      ],
      "execution_count": null,
      "outputs": []
    },
    {
      "cell_type": "markdown",
      "metadata": {
        "_uuid": "cd1531c8421bfb6967cebf7039056779f9b960a6",
        "id": "ZxbBdvM0uRpQ"
      },
      "source": [
        "##Box Plot Showing the Age and Manner of Death\n",
        "\n",
        "Is there a difference between men and women in the manner of death?"
      ]
    },
    {
      "cell_type": "code",
      "metadata": {
        "id": "WdPPZLJY2shA"
      },
      "source": [
        "filtered_data = fatalities_data.dropna(subset=['age', 'gender', 'manner_of_death'])\n",
        "plt.figure(figsize=(12, 6))\n",
        "sns.boxplot(data=filtered_data, x='gender', y='age', hue='manner_of_death')\n",
        "\n",
        "plt.title('Box Plot: Age and Manner of Death by Gender')\n",
        "plt.xlabel('Gender')\n",
        "plt.ylabel('Age')\n",
        "plt.legend(title='Manner of Death', bbox_to_anchor=(1.05, 1), loc='upper left')\n",
        "\n",
        "plt.tight_layout()\n",
        "plt.show()"
      ],
      "execution_count": null,
      "outputs": []
    },
    {
      "cell_type": "markdown",
      "metadata": {
        "id": "h1pAgkyb3Xb0"
      },
      "source": [
        "## Were People Armed?\n",
        "\n",
        "In what percentage of police killings were people armed? Below is a chart that show what kind of weapon (if any) the deceased was carrying. How many of the people killed by police were armed with guns versus unarmed?"
      ]
    },
    {
      "cell_type": "code",
      "metadata": {
        "id": "0d9B3Pec4TdM"
      },
      "source": [
        "#print(fatalities_data['armed'].value_counts().to_string())\n",
        "\n",
        "#all ocurrences\n",
        "armed_status = fatalities_data['armed'].value_counts()\n",
        "unarmed_count = armed_status.get('unarmed', 0)\n",
        "#all that werent unarmed\n",
        "armed_count = armed_status.sum() - unarmed_count\n",
        "\n",
        "data = {'Armed': armed_count, 'Unarmed': unarmed_count}\n",
        "\n",
        "fig, ax = plt.subplots(figsize=(8, 6))\n",
        "\n",
        "ax.bar(data.keys(), data.values(), color=['blue', 'red'])\n",
        "ax.set_title('People Killed by Police - Armed vs Unarmed')\n",
        "ax.set_xlabel('Armed Status')\n",
        "ax.set_ylabel('Number of Deaths')\n",
        "\n",
        "for i, count in enumerate(data.values()):\n",
        "    ax.text(i, count + 10, f'{count}', ha='center', fontsize=12)\n",
        "\n",
        "plt.tight_layout()\n",
        "plt.show()"
      ],
      "execution_count": null,
      "outputs": []
    },
    {
      "cell_type": "markdown",
      "metadata": {
        "id": "IgD2a5-L4W_I"
      },
      "source": [
        "## How Old Were the People Killed?\n",
        "\n",
        "### Work out what percentage of people killed were under 25 years old.  "
      ]
    },
    {
      "cell_type": "code",
      "metadata": {
        "id": "zSyDgzb542O9"
      },
      "source": [
        "#counting\n",
        "under_25 = fatalities_data[fatalities_data['age'] < 25].shape[0]\n",
        "over_25 = fatalities_data[fatalities_data['age'] >= 25].shape[0]\n",
        "\n",
        "labels = ['Under 25', '25 and Over']\n",
        "values = [under_25, over_25]\n",
        "percentages = [under_25 / (under_25 + over_25) * 100, over_25 / (under_25 + over_25) * 100]\n",
        "\n",
        "fig, ax = plt.subplots(figsize=(6, 5))\n",
        "bars = ax.bar(labels, percentages, color=['skyblue', 'steelblue'])\n",
        "\n",
        "#text above bars\n",
        "for bar, pct in zip(bars, percentages):\n",
        "    height = bar.get_height()\n",
        "    ax.text(bar.get_x() + bar.get_width()/2, height + 1, f'{pct:.1f}%', ha='center', fontsize=12)\n",
        "\n",
        "ax.set_ylabel('Percentage of Deaths')\n",
        "ax.set_title('Police Killings by Age')\n",
        "\n",
        "plt.ylim(0, max(percentages) + 10)\n",
        "plt.tight_layout()\n",
        "plt.show()"
      ],
      "execution_count": null,
      "outputs": []
    },
    {
      "cell_type": "markdown",
      "metadata": {
        "id": "5XrAD_ey9qBB"
      },
      "source": [
        "## A histogram and KDE plot that shows the distribution of ages of the people killed by police."
      ]
    },
    {
      "cell_type": "code",
      "metadata": {
        "id": "U6B1Qp7l42H8"
      },
      "source": [
        "#age in numeric value\n",
        "fatalities_data['age'] = pd.to_numeric(fatalities_data['age'], errors='coerce')\n",
        "age_data = fatalities_data['age'].dropna()\n",
        "plt.figure(figsize=(10, 6))\n",
        "sns.histplot(age_data, kde=True, bins=30, color='red')\n",
        "\n",
        "plt.title('Distribution of Ages of People Killed by Police')\n",
        "plt.xlabel('Age')\n",
        "plt.ylabel('Number of Deaths')\n",
        "plt.tight_layout()\n",
        "plt.show()"
      ],
      "execution_count": null,
      "outputs": []
    },
    {
      "cell_type": "markdown",
      "metadata": {
        "id": "zcqqPDo79rTx"
      },
      "source": [
        "### Seperate KDE plot for each race. Is there a difference between the distributions?"
      ]
    },
    {
      "cell_type": "code",
      "metadata": {
        "id": "ubUnMjok43Zo"
      },
      "source": [
        "#numeric and valid formatting\n",
        "race_age_data = fatalities_data[['age', 'race']].dropna()\n",
        "race_age_data['age'] = pd.to_numeric(race_age_data['age'], errors='coerce')\n",
        "race_age_data = race_age_data.dropna()\n",
        "\n",
        "plt.figure(figsize=(10, 6))\n",
        "kde = sns.kdeplot(\n",
        "    data=race_age_data,\n",
        "    x='age',\n",
        "    hue='race',\n",
        "    common_norm=False,\n",
        "    fill=True,\n",
        "    alpha=0.4\n",
        ")\n",
        "\n",
        "plt.title('Age Distribution by Race - Police Killings')\n",
        "plt.xlabel('Age')\n",
        "plt.ylabel('Density')\n",
        "\n",
        "plt.tight_layout()\n",
        "plt.show()"
      ],
      "execution_count": null,
      "outputs": []
    },
    {
      "cell_type": "markdown",
      "metadata": {
        "id": "JkcHvMUt43uE"
      },
      "source": [
        "## Race of People Killed\n",
        "Chart that shows the total number of people killed by race."
      ]
    },
    {
      "cell_type": "code",
      "metadata": {
        "id": "_aqN0wC45BOl"
      },
      "source": [
        "#race ocurrences\n",
        "race_counts = fatalities_data['race'].value_counts()\n",
        "\n",
        "fig, ax = plt.subplots(figsize=(8, 6))\n",
        "bars = ax.bar(race_counts.index, race_counts.values, color='skyblue')\n",
        "\n",
        "ax.set_title('Total Number of People Killed by Race', fontsize=14)\n",
        "ax.set_xlabel('Race')\n",
        "ax.set_ylabel('Number of Deaths')\n",
        "\n",
        "for bar in bars:\n",
        "    height = bar.get_height()\n",
        "    ax.text(bar.get_x() + bar.get_width() / 2, height + 2, str(int(height)),\n",
        "            ha='center', va='bottom', fontsize=11)\n",
        "\n",
        "plt.tight_layout()\n",
        "plt.show()"
      ],
      "execution_count": null,
      "outputs": []
    },
    {
      "cell_type": "markdown",
      "metadata": {
        "id": "SJaNm4rC5nWm"
      },
      "source": [
        "## Mental Illness and Police Killings\n",
        "\n",
        "What percentage of people killed by police have been diagnosed with a mental illness?"
      ]
    },
    {
      "cell_type": "code",
      "metadata": {
        "id": "dbuGvCnN5ytC"
      },
      "source": [
        "#counting\n",
        "mental_illness_counts = fatalities_data['signs_of_mental_illness'].value_counts()\n",
        "#calculating pct\n",
        "total_cases = mental_illness_counts.sum()\n",
        "percentage_mental_illness = (mental_illness_counts[True] / total_cases) * 100\n",
        "percentage_no_mental_illness = 100 - percentage_mental_illness\n",
        "\n",
        "labels = ['Diagnosed Mental Illness', 'No Mental Illness']\n",
        "sizes = [percentage_mental_illness, percentage_no_mental_illness]\n",
        "colors = ['#ff9999','#66b3ff']\n",
        "\n",
        "fig, ax = plt.subplots(figsize=(7, 7))\n",
        "ax.pie(sizes, labels=labels, autopct='%1.1f%%', startangle=140, colors=colors)\n",
        "ax.set_title('Mental Illness in People Killed by Police')\n",
        "plt.show()"
      ],
      "execution_count": null,
      "outputs": []
    },
    {
      "cell_type": "markdown",
      "metadata": {
        "id": "R0WSPeKD5Cir"
      },
      "source": [
        "## In Which Cities Do the Most Police Killings Take Place?\n",
        "\n",
        "Chart ranking the top 10 cities with the most police killings. Which cities are the most dangerous?  "
      ]
    },
    {
      "cell_type": "code",
      "metadata": {
        "id": "NYVwo3qy5UV3"
      },
      "source": [
        "deadlier_cities = fatalities_data['city'].value_counts().head(10)#top10 deadlier cities\n",
        "\n",
        "plt.figure(figsize=(10, 6))\n",
        "sns.barplot(x=deadlier_cities.values, y=deadlier_cities.index, palette='Reds_r',hue=deadlier_cities.index)\n",
        "\n",
        "plt.title('Top 10 Cities with the Most Police Killings')\n",
        "plt.xlabel('Number of Deaths')\n",
        "plt.ylabel('City')\n",
        "plt.tight_layout()\n",
        "plt.show()"
      ],
      "execution_count": null,
      "outputs": []
    },
    {
      "cell_type": "markdown",
      "metadata": {
        "id": "AqcOW6ca8JMD"
      },
      "source": [
        "## Rate of Death by Race in Cities\n",
        "\n",
        "The share of each race in the top 10 deadlier cities."
      ]
    },
    {
      "cell_type": "code",
      "metadata": {
        "id": "FkjAUlKy8I2g"
      },
      "source": [
        "#top10 deadlier cities\n",
        "deadlier_cities = fatalities_data['city'].value_counts().head(10).index\n",
        "\n",
        "#empty dataframe\n",
        "race_distribution_by_city = pd.DataFrame()\n",
        "\n",
        "#loop through each city in top10\n",
        "for city in deadlier_cities:\n",
        "    #get the race pct on the city\n",
        "    pct_race_in_city = fatalities_data[fatalities_data['city'] == city]\n",
        "\n",
        "    #calc the distribution\n",
        "    race_distribution = pct_race_in_city['race'].value_counts(normalize=True) * 100\n",
        "\n",
        "    #insert at the dataframe\n",
        "    race_distribution_by_city[city] = race_distribution\n",
        "\n",
        "#cities as indexes\n",
        "race_distribution_by_city = race_distribution_by_city.T.fillna(0)\n",
        "\n",
        "ax = race_distribution_by_city.plot(kind='bar', stacked=True, figsize=(14, 8))\n",
        "plt.title('Distribuição de Raça nas 10 Cidades Mais Mortíferas')\n",
        "plt.xlabel('Cidade')\n",
        "plt.ylabel('Proporção de Raça (%)')\n",
        "plt.xticks(rotation=45, ha='right')\n",
        "plt.tight_layout()\n",
        "plt.show()"
      ],
      "execution_count": null,
      "outputs": []
    },
    {
      "cell_type": "markdown",
      "metadata": {
        "id": "1HUJksrI5WFb"
      },
      "source": [
        "##Choropleth Map of Police Killings by US State\n",
        "\n",
        "Which states are the most dangerous? Compare your map with your previous chart. Are these the same states with high degrees of poverty?"
      ]
    },
    {
      "cell_type": "code",
      "metadata": {
        "id": "Y6VLPDeN5dKO"
      },
      "source": [
        "# state ISOs\n",
        "us_states = pd.DataFrame({\n",
        "    \"state\": [\n",
        "        \"AL\", \"AK\", \"AZ\", \"AR\", \"CA\", \"CO\", \"CT\", \"DE\",\n",
        "        \"FL\", \"GA\", \"HI\", \"ID\", \"IL\", \"IN\", \"IA\", \"KS\", \"KY\",\n",
        "        \"LA\", \"ME\", \"MD\", \"MA\", \"MI\", \"MN\", \"MS\", \"MO\",\n",
        "        \"MT\", \"NE\", \"NV\", \"NH\", \"NJ\", \"NM\", \"NY\", \"NC\",\n",
        "        \"ND\", \"OH\", \"OK\", \"OR\", \"PA\", \"RI\", \"SC\", \"SD\",\n",
        "        \"TN\", \"TX\", \"UT\", \"VT\", \"VA\", \"WA\", \"WV\", \"WI\", \"WY\"\n",
        "    ]\n",
        "})\n",
        "#print(fatalities_data['state'].unique())  # Verifique se o formato é com siglas\n",
        "\n",
        "#merging\n",
        "state_deaths = fatalities_data.groupby('state').size().reset_index(name='deaths')\n",
        "\n",
        "#getting all states together\n",
        "state_deaths = pd.merge(us_states, state_deaths, on=\"state\", how=\"left\").fillna(0)\n",
        "#print(state_deaths.head())\n",
        "\n",
        "fig = px.choropleth(\n",
        "    state_deaths,\n",
        "    locations='state',\n",
        "    locationmode=\"USA-states\",\n",
        "    color='deaths',\n",
        "    hover_name='state',\n",
        "    color_continuous_scale=\"YlOrRd\",\n",
        "    labels={'deaths': 'Police Killings'},\n",
        "    title=\"Police Killings by State\"\n",
        ")\n",
        "fig.update_layout(geo=dict(scope='usa'))\n",
        "fig.update_geos(showcoastlines=True, coastlinecolor=\"Black\", showland=True, landcolor=\"white\")\n",
        "fig.show()"
      ],
      "execution_count": null,
      "outputs": []
    },
    {
      "cell_type": "markdown",
      "metadata": {
        "id": "37UsmVYF6hA2"
      },
      "source": [
        "## Number of Police Killings Over Time\n",
        "\n",
        "Analyse if there's there a trend in the data?"
      ]
    },
    {
      "cell_type": "code",
      "metadata": {
        "id": "nITf1IhP6gpI"
      },
      "source": [
        "#datetime formating\n",
        "fatalities_data['date'] = pd.to_datetime(fatalities_data['date'])\n",
        "\n",
        "#decreasing deaths\n",
        "deaths_per_year = fatalities_data['date'].dt.year.value_counts().sort_index(ascending=False)\n",
        "\n",
        "plt.figure(figsize=(10, 6))\n",
        "plt.barh(deaths_per_year.index.astype(str), deaths_per_year.values, color='indianred')\n",
        "\n",
        "plt.xlabel(\"Número de Mortes\")\n",
        "plt.ylabel(\"Ano\")\n",
        "plt.title(\"Mortes por Ação Policial por Ano (EUA)\")\n",
        "plt.grid(axis='x', linestyle='--', alpha=0.5)\n",
        "plt.tight_layout()\n",
        "plt.show()"
      ],
      "execution_count": null,
      "outputs": []
    },
    {
      "cell_type": "markdown",
      "metadata": {
        "id": "9o6uLFpS61nw"
      },
      "source": [
        "# Epilogue\n",
        "read [The Washington Post's analysis here](https://www.washingtonpost.com/graphics/investigations/police-shootings-database/)."
      ]
    }
  ]
}